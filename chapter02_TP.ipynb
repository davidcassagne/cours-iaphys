{
  "nbformat": 4,
  "nbformat_minor": 0,
  "metadata": {
    "colab": {
      "provenance": []
    },
    "kernelspec": {
      "name": "python3",
      "display_name": "Python 3"
    },
    "language_info": {
      "name": "python"
    }
  },
  "cells": [
    {
      "cell_type": "markdown",
      "source": [
        "# TP Chapitre 2\n",
        "\n",
        "##Exercice 1\n",
        "\n",
        "Afficher l'image d'indice 50 dans le jeu de données de test de MNIST.\n",
        "\n",
        "Après avoir entrainé votre modèle, effectuer une prédiction pour cette image et déterminer quel chiffre est prédit par le modèle.\n",
        "\n",
        "Vérifier que la prédiction correspond bien à l'étiquette associée à cette image au sein de votre jeu de données.\n",
        "\n",
        "## Exercice 2\n",
        "\n",
        "Entrainer le même réseau de neurones que celui proposé dans le chapitre 2, mais seulement à partir des 5000 premières images du jeu de données d'entrainement de MNIST.\n",
        "\n",
        "Une fois entrainé, que constatez-vous concernant l'exactitude atteinte pour le jeu de données de test.\n",
        "\n",
        "## Exercice 3\n",
        "\n",
        "Réaliser le même entrainement que celui proposé dans le chapitre 2, mais avec un réseau de neurones dont la première couche ne contient que 16 neurones.\n",
        "\n",
        "Que constatez-vous concernant le nouveau modèle ainsi obtenu ?"
      ],
      "metadata": {
        "id": "ng4_pRluyaMm"
      }
    }
  ]
}