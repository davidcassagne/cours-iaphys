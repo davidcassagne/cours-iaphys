{
  "nbformat": 4,
  "nbformat_minor": 0,
  "metadata": {
    "colab": {
      "provenance": [],
      "gpuType": "T4",
      "include_colab_link": true
    },
    "kernelspec": {
      "name": "python3",
      "display_name": "Python 3"
    },
    "language_info": {
      "name": "python"
    },
    "accelerator": "GPU"
  },
  "cells": [
    {
      "cell_type": "markdown",
      "metadata": {
        "id": "view-in-github",
        "colab_type": "text"
      },
      "source": [
        "<a href=\"https://colab.research.google.com/github/davidcassagne/cours-iaphys/blob/main/chapter02_TP.ipynb\" target=\"_parent\"><img src=\"https://colab.research.google.com/assets/colab-badge.svg\" alt=\"Open In Colab\"/></a>"
      ]
    },
    {
      "cell_type": "markdown",
      "source": [
        "# TP Chapitre 2\n",
        "\n",
        "##Exercice 1\n",
        "\n",
        "Afficher l'image d'indice 50 du jeu de données de test de MNIST.\n",
        "\n",
        "Après avoir entrainé votre modèle en utilisant le premier exemple du cours, effectuer une prédiction pour cette image et déterminer quel chiffre est prédit par le modèle.\n",
        "\n",
        "\n",
        "Vérifier que la prédiction correspond bien à l'étiquette associée à cette image au sein de votre jeu de données.\n"
      ],
      "metadata": {
        "id": "ng4_pRluyaMm"
      }
    },
    {
      "cell_type": "code",
      "source": [],
      "metadata": {
        "id": "yX2Gd3h3BtUO"
      },
      "execution_count": null,
      "outputs": []
    },
    {
      "cell_type": "markdown",
      "source": [
        "\n",
        "## Exercice 2\n",
        "\n",
        "Entrainer le même réseau de neurones que celui proposé comme premier exemple dans le chapitre 2, mais seulement à partir des 5000 premières images du jeu de données d'entrainement de MNIST.\n",
        "\n",
        "Une fois entrainé, que constatez-vous concernant l'exactitude atteinte pour le jeu de données de test.\n",
        "\n"
      ],
      "metadata": {
        "id": "1lxS9VLxAlF_"
      }
    },
    {
      "cell_type": "code",
      "source": [],
      "metadata": {
        "id": "yOgobzEOBwE4"
      },
      "execution_count": null,
      "outputs": []
    },
    {
      "cell_type": "markdown",
      "source": [
        "## Exercice 3\n",
        "\n",
        "Réaliser le même entrainement que celui proposé dans le premier exemple du chapitre 2, mais avec un réseau de neurones dont la première couche ne contient que 16 neurones.\n",
        "\n",
        "Que constatez-vous concernant le nouveau modèle ainsi obtenu ?"
      ],
      "metadata": {
        "id": "4Xb6ckuEBfp6"
      }
    },
    {
      "cell_type": "code",
      "source": [],
      "metadata": {
        "id": "1vvDqIP79O_C"
      },
      "execution_count": null,
      "outputs": []
    }
  ]
}