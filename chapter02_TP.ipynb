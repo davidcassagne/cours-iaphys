{
  "cells": [
    {
      "cell_type": "markdown",
      "metadata": {
        "id": "view-in-github",
        "colab_type": "text"
      },
      "source": [
        "<a href=\"https://colab.research.google.com/github/davidcassagne/cours-iaphys/blob/main/chapter02_TP.ipynb\" target=\"_parent\"><img src=\"https://colab.research.google.com/assets/colab-badge.svg\" alt=\"Open In Colab\"/></a>"
      ]
    },
    {
      "cell_type": "markdown",
      "source": [
        "# TP Chapitre 2\n",
        "\n",
        "##Exercice 1\n",
        "\n",
        "Afficher l'image d'indice 50 dans le jeu de données de test de MNIST.\n",
        "\n",
        "Après avoir entrainé votre modèle, effectuer une prédiction pour cette image et déterminer quel chiffre est prédit par le modèle.\n",
        "\n",
        "Vérifier que la prédiction correspond bien à l'étiquette associée à cette image au sein de votre jeu de données.\n",
        "\n",
        "## Exercice 2\n",
        "\n",
        "Entrainer le même réseau de neurones que celui proposé dans le chapitre 2, mais seulement à partir des 5000 premières images du jeu de données d'entrainement de MNIST.\n",
        "\n",
        "Une fois entrainé, que constatez-vous concernant l'exactitude atteinte pour le jeu de données de test.\n",
        "\n",
        "## Exercice 3\n",
        "\n",
        "Réaliser le même entrainement que celui proposé dans le chapitre 2, mais avec un réseau de neurones dont la première couche ne contient que 16 neurones.\n",
        "\n",
        "Que constatez-vous concernant le nouveau modèle ainsi obtenu ?"
      ],
      "metadata": {
        "id": "924cd93e-14ad-45f0-a0df-b1bd9381daf0"
      },
      "id": "924cd93e-14ad-45f0-a0df-b1bd9381daf0"
    },
    {
      "cell_type": "code",
      "source": [],
      "metadata": {
        "id": "LILqjjiRaXvq"
      },
      "id": "LILqjjiRaXvq",
      "execution_count": null,
      "outputs": []
    }
  ],
"metadata": {
    "accelerator": "GPU",
    "colab": {
      "provenance": [],
      "include_colab_link": true
    }
    "kernelspec": {
      "display_name": "Python 3",
      "language": "python",
      "name": "python3"
    },
    "language_info": {
      "codemirror_mode": {
        "name": "ipython",
        "version": 3
      },
      "file_extension": ".py",
      "mimetype": "text/x-python",
      "name": "python",
      "nbconvert_exporter": "python",
      "pygments_lexer": "ipython3",
      "version": "3.10.0"
    }
  },
  "nbformat": 4,
  "nbformat_minor": 5
}
