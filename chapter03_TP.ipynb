{
  "cells": [
    {
      "cell_type": "markdown",
      "metadata": {
        "id": "ng4_pRluyaMm"
      },
      "source": [
        "# TP Chapitre 3\n",
        "\n",
        "##Exercice 1\n",
        "\n",
        "\n",
        "## Exercice 1 — Dérivée d’une fonction scalaire simple\n",
        "On considère \\( f(x) = 3x^2 + 2x + 1 \\)."
      ]
    },
    {
      "cell_type": "code",
      "execution_count": null,
      "metadata": {},
      "outputs": [],
      "source": [
        "# %% À compléter\n",
        "x = tf.Variable(2.0)\n",
        "\n",
        "with tf.GradientTape() as tape:\n",
        "    # TODO: définir f(x) = 3x^2 + 2x + 1\n",
        "    f = 3.0 * x**2 + 2.0 * x + 1.0\n",
        "\n",
        "# TODO: extraire df/dx\n",
        "df_dx = tape.gradient(f, x)\n",
        "\n",
        "print(\"f(2) =\", f.numpy())\n",
        "print(\"df/dx|_{x=2} =\", df_dx.numpy())\n",
        "\n",
        "# Vérification simple\n",
        "# Dérivée analytique: f'(x) = 6x + 2 -> f'(2) = 14\n",
        "assert abs(df_dx.numpy() - 14.0) < 1e-6, \"Le gradient ne correspond pas à la valeur attendue.\""
      ]
    },
    {
      "cell_type": "markdown",
      "metadata": {
        "id": "8bHThuOxC0QD"
      },
      "source": [
        "## Exercice 4 — Dérivées d’ordre supérieur\n",
        "Considérez \\( f(x)=x^3 \\).  \n",
        "1) Calculez \\( f'(x) \\) et \\( f''(x) \\) en \\( x=2 \\) avec une **double bande** (`GradientTape` imbriquées).  \n",
        "2) Vérifiez \\( f'(2)=12 \\) et \\( f''(2)=12 \\).\n"
      ]
    },
    {
      "cell_type": "code",
      "execution_count": null,
      "metadata": {
        "id": "CrUjXg_iDINE"
      },
      "outputs": [],
      "source": [
        "# %% À compléter\n",
        "x = tf.Variable(2.0)\n",
        "\n",
        "with tf.GradientTape() as t2:\n",
        "    with tf.GradientTape() as t1:\n",
        "        f = x**3\n",
        "    df = t1.gradient(f, x)\n",
        "d2f = t2.gradient(df, x)\n",
        "\n",
        "print(\"f'(2)  =\", df.numpy())\n",
        "print(\"f''(2) =\", d2f.numpy())\n",
        "\n",
        "assert abs(df.numpy() - 12.0) < 1e-6\n",
        "assert abs(d2f.numpy() - 12.0) < 1e-6"
      ]
    }
  ],
  "metadata": {
    "colab": {
      "gpuType": "T4",
      "include_colab_link": true,
      "provenance": []
    },
    "kernelspec": {
      "display_name": "Python 3",
      "name": "python3"
    },
    "language_info": {
      "name": "python"
    }
  },
  "nbformat": 4,
  "nbformat_minor": 0
}
