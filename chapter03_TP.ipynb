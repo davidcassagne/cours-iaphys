{
  "cells": [
    {
      "cell_type": "markdown",
      "metadata": {
        "id": "view-in-github",
        "colab_type": "text"
      },
      "source": [
        "<a href=\"https://colab.research.google.com/github/davidcassagne/cours-iaphys/blob/main/chapter03_TP.ipynb\" target=\"_parent\"><img src=\"https://colab.research.google.com/assets/colab-badge.svg\" alt=\"Open In Colab\"/></a>"
      ]
    },
    {
      "cell_type": "markdown",
      "metadata": {
        "id": "ng4_pRluyaMm"
      },
      "source": [
        "# TP Chapitre 3\n",
        "\n",
        "## Exercice 1 — Dérivée d’une fonction scalaire simple avec Tensorflow\n",
        "\n",
        "On considère $f(x) = 3x^2 + 2x + 1$.\n",
        "\n",
        "Calculez $f'(x)$ en $x=2$."
      ]
    },
    {
      "cell_type": "code",
      "execution_count": null,
      "metadata": {
        "id": "cXzBNhMmLlzN"
      },
      "outputs": [],
      "source": [
        "# %% À compléter\n",
        "import tensorflow as tf\n",
        "import numpy as np\n",
        "\n",
        "x = tf.Variable(2.0)\n",
        "\n",
        "with tf.GradientTape() as tape:\n",
        "    # TODO: définir f\n",
        "\n",
        "# TODO: calculer df/dx pour la valeur de x demandée et placer la valeur dans df_dx\n",
        "\n",
        "print(\"f(2) =\", f.numpy())\n",
        "print(\"df/dx|_{x=2} =\", df_dx.numpy())\n",
        "\n",
        "# Vérification simple\n",
        "# Dérivée analytique: f'(x) = 6x + 2 -> f'(2) = 14\n",
        "assert abs(df_dx.numpy() - 14.0) < 1e-6, \"Le gradient ne correspond pas à la valeur attendue.\""
      ]
    },
    {
      "cell_type": "markdown",
      "metadata": {
        "id": "8bHThuOxC0QD"
      },
      "source": [
        "## Exercice 2 — Dérivées d’ordre supérieur avec Tensorflow\n",
        "Considérez $f(x)=x^3$.  \n",
        "1) Calculez $f'(x)$ et $f''(x)$ en $x=2$.\n",
        "2) Vérifiez $f'(2)=12$ et $f''(2)=12$.\n"
      ]
    },
    {
      "cell_type": "code",
      "execution_count": null,
      "metadata": {
        "id": "CrUjXg_iDINE"
      },
      "outputs": [],
      "source": [
        "# %% À compléter\n",
        "x = tf.Variable(2.0)\n",
        "\n",
        "# TODO: calculer la dérivée pour la valeur de x demandée et placer la valeur dans df\n",
        "# TODO: calculer la dérivée seconde pour la valeur de x demandée et placer la valeur dans d2f\n",
        "\n",
        "print(\"f'(2)  =\", df.numpy())\n",
        "print(\"f''(2) =\", d2f.numpy())\n",
        "\n",
        "assert abs(df.numpy() - 12.0) < 1e-6\n",
        "assert abs(d2f.numpy() - 12.0) < 1e-6"
      ]
    }
  ],
  "metadata": {
    "colab": {
      "gpuType": "T4",
      "provenance": [],
      "include_colab_link": true
    },
    "kernelspec": {
      "display_name": "Python 3",
      "name": "python3"
    },
    "language_info": {
      "name": "python"
    }
  },
  "nbformat": 4,
  "nbformat_minor": 0
}