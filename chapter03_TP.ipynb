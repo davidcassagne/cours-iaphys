{
  "cells": [
    {
      "cell_type": "markdown",
      "metadata": {
        "id": "view-in-github",
        "colab_type": "text"
      },
      "source": [
        "<a href=\"https://colab.research.google.com/github/davidcassagne/cours-iaphys/blob/main/chapter03_TP.ipynb\" target=\"_parent\"><img src=\"https://colab.research.google.com/assets/colab-badge.svg\" alt=\"Open In Colab\"/></a>"
      ]
    },
    {
      "cell_type": "markdown",
      "metadata": {
        "id": "Gc9256DZdbxy"
      },
      "source": [
        "# TP Chapitre 3\n",
        "\n",
        "*Pour faire cette feuille d'exercices dans Google Colab, vous devez désactiver l'autocomplétion.\n",
        "Pour cela, il vous faut aller sur la roue crantée (\"Ouvrir les paramètres\"), puis dans \"Assistance IA\" et décocher la case \"Afficher les autocomplétions basées sur l'IA\".*\n",
        "\n",
        "## Exercice 1 — Dérivée d’une fonction scalaire simple avec Tensorflow\n",
        "\n",
        "On considère $f(x) = 3x^2 + 2x + 1$.\n",
        "\n",
        "Calculez $f'(x)$ en $x=2$."
      ]
    },
    {
      "cell_type": "code",
      "execution_count": null,
      "metadata": {
        "id": "cXzBNhMmLlzN"
      },
      "outputs": [],
      "source": [
        "# On vous donne le début du code\n",
        "import tensorflow as tf\n",
        "import numpy as np\n",
        "\n",
        "x = tf.Variable(2.0)"
      ]
    },
    {
      "cell_type": "markdown",
      "source": [
        "Compléter l'instruction suivante pour définir la fonction f\n"
      ],
      "metadata": {
        "id": "m4XC-1eadbx2"
      }
    },
    {
      "cell_type": "code",
      "source": [
        "with tf.GradientTape() as tape:\n",
        ""
      ],
      "metadata": {
        "id": "fh6-rzD_dbx2"
      },
      "execution_count": null,
      "outputs": []
    },
    {
      "cell_type": "markdown",
      "source": [
        "\n",
        "  \n",
        "\n",
        "Calculer df/dx pour la valeur de x demandée et placer la valeur dans df_dx\n"
      ],
      "metadata": {
        "id": "zVd6fmazdbx3"
      }
    },
    {
      "cell_type": "code",
      "source": [
        "df_dx = # à compléter\n",
        "\n",
        "print(\"f(2) =\", f.numpy())\n",
        "print(\"df/dx|_{x=2} =\", df_dx.numpy())\n",
        "\n",
        "# Vérification simple\n",
        "# Dérivée analytique: f'(x) = 6x + 2 -> f'(2) = 14\n",
        "assert abs(df_dx.numpy() - 14.0) < 1e-6, \"Le gradient ne correspond pas à la valeur attendue.\""
      ],
      "metadata": {
        "id": "0HOmILz0dbx4"
      },
      "execution_count": null,
      "outputs": []
    },
    {
      "cell_type": "markdown",
      "metadata": {
        "id": "fTszyM6Ndbx7"
      },
      "source": [
        "## Exercice 2 — Dérivées d’ordre supérieur avec Tensorflow\n",
        "Considérez $f(x)=x^3$.  \n",
        "1) Calculez $f'(x)$ et $f''(x)$ en $x=2$.\n",
        "2) Vérifiez $f'(2)=12$ et $f''(2)=12$.\n"
      ]
    },
    {
      "cell_type": "code",
      "execution_count": null,
      "metadata": {
        "id": "TM8xQs6Pdbx8"
      },
      "outputs": [],
      "source": [
        "# On vous donne le début du code\n",
        "x = tf.Variable(2.0)"
      ]
    },
    {
      "cell_type": "markdown",
      "source": [
        "Calculer la dérivée seconde. On placera la dérivée dans df et la dérivée seconde dans d2f.\n"
      ],
      "metadata": {
        "id": "YzG8jqQnZy_D"
      }
    },
    {
      "cell_type": "code",
      "source": [
        "# à compléter\n"
      ],
      "metadata": {
        "id": "rP4x20mAZ1ba"
      },
      "execution_count": null,
      "outputs": []
    },
    {
      "cell_type": "code",
      "source": [
        "print(\"f'(2)  =\", df.numpy())\n",
        "print(\"f''(2) =\", d2f.numpy())\n",
        "\n",
        "assert abs(df.numpy() - 12.0) < 1e-6\n",
        "assert abs(d2f.numpy() - 12.0) < 1e-6"
      ],
      "metadata": {
        "id": "36vwoyX0ahzf"
      },
      "execution_count": null,
      "outputs": []
    }
  ],
  "metadata": {
    "colab": {
      "gpuType": "T4",
      "provenance": [],
      "include_colab_link": true
    },
    "kernelspec": {
      "display_name": "Python 3",
      "name": "python3"
    },
    "language_info": {
      "name": "python"
    }
  },
  "nbformat": 4,
  "nbformat_minor": 0
}