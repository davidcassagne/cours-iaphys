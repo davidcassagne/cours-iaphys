{
 "cells": [
  {
   "cell_type": "markdown",
   "id": "843d766a",
   "metadata": {},
   "source": [
    "# `with` en Python — principes et exemples (fichiers, `tf.GradientTape`)\n",
    "\n",
    "## Objectif\n",
    "Présenter ce que fait `with`, pourquoi l’utiliser, et illustrer par des exemples concrets avec des **fichiers** puis avec **TensorFlow**.\n",
    "\n",
    "## Idée centrale\n",
    "`with` ouvre/démarre une ressource au début du bloc, puis **la libère ou l’arrête automatiquement** à la fin du bloc — y compris si l’exécution quitte le bloc prématurément.\n",
    "\n",
    "## Pourquoi l’utiliser ?\n",
    "- **Robustesse** : libération fiable des ressources.\n",
    "- **Lisibilité** : évite le code « plomberie » (`close()`, etc.).\n",
    "- **Concision** : se substitue à un `try/finally` explicite.\n",
    "\n",
    "## Syntaxe générale\n",
    "```python\n",
    "with objet_contexte as alias:\n",
    "    # utiliser alias dans le bloc\n",
    "```\n",
    "`alias` est la valeur fournie par l’objet via son protocole d’entrée dans le contexte.\n"
   ]
  },
  {
   "cell_type": "markdown",
   "id": "87c5938b",
   "metadata": {},
   "source": [
    "## 1) Exemple de base : fichiers\n",
    "Ouvrir, utiliser, puis fermer un fichier automatiquement.\n"
   ]
  },
  {
   "cell_type": "code",
   "execution_count": null,
   "id": "870e35ef",
   "metadata": {},
   "outputs": [],
   "source": [
    "# Écriture : fermeture automatique en sortie de bloc\n",
    "with open(\"demo.txt\", \"w\", encoding=\"utf-8\") as f:  # f est l'alias\n",
    "    f.write(\"Bonjour, Python avec with.\\n\")\n",
    "\n",
    "# Lecture : idem\n",
    "with open(\"demo.txt\", \"r\", encoding=\"utf-8\") as f:\n",
    "    contenu = f.read()\n",
    "print(contenu.strip())"
   ]
  },
  {
   "cell_type": "markdown",
   "id": "08bf8e62",
   "metadata": {},
   "source": [
    "### Plusieurs ressources dans un même `with`\n",
    "Il est possible de gérer plusieurs contextes simultanément.\n"
   ]
  },
  {
   "cell_type": "code",
   "execution_count": null,
   "id": "be60dfda",
   "metadata": {},
   "outputs": [],
   "source": [
    "# Préparation d'une source\n",
    "with open(\"source.txt\", \"w\", encoding=\"utf-8\") as src:\n",
    "    src.write(\"Ligne A\\nLigne B\\n\")\n",
    "\n",
    "# Copie de source.txt vers copie.txt\n",
    "with open(\"source.txt\", \"r\", encoding=\"utf-8\") as src, \\\n",
    "     open(\"copie.txt\", \"w\", encoding=\"utf-8\") as dst:\n",
    "    for ligne in src:\n",
    "        dst.write(ligne)\n",
    "\n",
    "# Vérification\n",
    "with open(\"copie.txt\", \"r\", encoding=\"utf-8\") as f:\n",
    "    print(\"copie.txt ->\")\n",
    "    print(f.read().strip())"
   ]
  },
  {
   "cell_type": "markdown",
   "id": "f98b3f43",
   "metadata": {},
   "source": [
    "## 2) `with` et TensorFlow : `tf.GradientTape`\n",
    "\n",
    "**Terminologie.** Le mot *tape* dans `GradientTape` se traduit utilement par **« enregistreur de gradients »** (métaphore d’une **bande d’enregistrement**). Entrer dans le bloc `with` démarre l’enregistrement des opérations appliquées aux tenseurs « surveillés » ; sortir du bloc l’arrête. On peut ensuite demander les **gradients** de sorties par rapport aux variables surveillées.\n",
    "\n",
    "*Pré-requis :* `pip install tensorflow`\n"
   ]
  },
  {
   "cell_type": "code",
   "execution_count": null,
   "id": "d85efdbe",
   "metadata": {},
   "outputs": [],
   "source": [
    "import tensorflow as tf\n",
    "\n",
    "# Variable \"entraînable\" (surveillée automatiquement par la tape)\n",
    "x = tf.Variable(3.0)\n",
    "\n",
    "with tf.GradientTape() as tape:        # démarrer l'enregistreur de gradients\n",
    "    y = x**2 + 2*x + 1                  # y = (x + 1)^2\n",
    "# sortie du bloc -> arrêt de l'enregistrement\n",
    "\n",
    "dy_dx = tape.gradient(y, x)             # dy/dx = 2*x + 2 en x=3 -> 8.0\n",
    "print(\"dy/dx =\", float(dy_dx))"
   ]
  },
  {
   "cell_type": "markdown",
   "id": "e86782f6",
   "metadata": {},
   "source": [
    "### Tape persistante (plusieurs gradients)\n",
    "Par défaut, une tape calcule les gradients **une seule fois**. Avec `persistent=True`, on peut en demander plusieurs, puis libérer explicitement la tape.\n"
   ]
  },
  {
   "cell_type": "code",
   "execution_count": null,
   "id": "9abc2fd6",
   "metadata": {},
   "outputs": [],
   "source": [
    "x = tf.Variable(2.0)\n",
    "with tf.GradientTape(persistent=True) as tape:\n",
    "    y1 = x**2        # dy1/dx = 2x -> 4.0\n",
    "    y2 = 3*x + 5     # dy2/dx = 3   -> 3.0\n",
    "\n",
    "g1 = tape.gradient(y1, x)\n",
    "g2 = tape.gradient(y2, x)\n",
    "del tape  # bonne pratique : libérer l'enregistreur persistant\n",
    "\n",
    "print(\"dy1/dx =\", float(g1), \"| dy2/dx =\", float(g2))"
   ]
  },
  {
   "cell_type": "markdown",
   "id": "f29617d2",
   "metadata": {},
   "source": [
    "### Surveiller un `tf.constant`\n",
    "Les `tf.Variable` sont surveillées automatiquement. Pour un `tf.constant`, il faut le **déclarer** à l’enregistreur.\n"
   ]
  },
  {
   "cell_type": "code",
   "execution_count": null,
   "id": "df73d2b1",
   "metadata": {},
   "outputs": [],
   "source": [
    "x = tf.constant(3.0)\n",
    "with tf.GradientTape() as tape:\n",
    "    tape.watch(x)     # important avec un constant\n",
    "    y = x**2\n",
    "print(\"d(x^2)/dx|_{x=3} =\", float(tape.gradient(y, x)))"
   ]
  },
  {
   "cell_type": "markdown",
   "id": "503d5c9f",
   "metadata": {},
   "source": [
    "---\n",
    "## À retenir\n",
    "- `with ... as alias:` ouvre un **contexte** puis le **ferme automatiquement** en sortie.\n",
    "- Cas d’usage immédiat : **fichiers** (ouvrir/fermer sans `close()` explicite).\n",
    "- Avec `tf.GradientTape`, le bloc `with` joue le rôle d’un **enregistreur de gradients** : en entrée on commence à enregistrer, en sortie on arrête, puis on demande les gradients.\n",
    "- Pour plusieurs calculs à partir de la même trace : `persistent=True`, puis libération explicite.\n"
   ]
  }
 ],
 "metadata": {
  "kernelspec": {
   "display_name": "Python 3",
   "language": "python",
   "name": "python3"
  },
  "language_info": {
   "name": "python",
   "version": "3.x"
  }
 },
 "nbformat": 4,
 "nbformat_minor": 5
}
