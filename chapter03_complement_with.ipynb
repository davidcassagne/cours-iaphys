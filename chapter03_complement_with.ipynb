{
  "cells": [
    {
      "cell_type": "markdown",
      "metadata": {
        "id": "view-in-github",
        "colab_type": "text"
      },
      "source": [
        "<a href=\"https://colab.research.google.com/github/davidcassagne/cours-iaphys/blob/main/chapter03_complement_with.ipynb\" target=\"_parent\"><img src=\"https://colab.research.google.com/assets/colab-badge.svg\" alt=\"Open In Colab\"/></a>"
      ]
    },
    {
      "cell_type": "markdown",
      "id": "843d766a",
      "metadata": {
        "id": "843d766a"
      },
      "source": [
        "# `with` en Python — principes et exemples (fichiers, `tf.GradientTape`)\n",
        "\n",
        "## Idée centrale\n",
        "`with` ouvre/démarre une ressource au début du bloc, puis **la libère ou l’arrête automatiquement** à la fin du bloc — y compris si l’exécution quitte le bloc prématurément.\n",
        "\n",
        "## Syntaxe générale\n",
        "```python\n",
        "with objet_contexte as alias:\n",
        "    # utiliser alias dans le bloc\n",
        "```\n",
        "`alias` est la valeur fournie par l’objet via son protocole d’entrée dans le contexte.\n"
      ]
    },
    {
      "cell_type": "markdown",
      "id": "87c5938b",
      "metadata": {
        "id": "87c5938b"
      },
      "source": [
        "## 1) Exemple de base : fichiers\n",
        "Ouvrir, utiliser, puis fermer un fichier automatiquement.\n"
      ]
    },
    {
      "cell_type": "code",
      "execution_count": null,
      "id": "870e35ef",
      "metadata": {
        "id": "870e35ef"
      },
      "outputs": [],
      "source": [
        "# Écriture : fermeture automatique en sortie de bloc\n",
        "with open(\"demo.txt\", \"w\", encoding=\"utf-8\") as f:  # f est l'alias\n",
        "    f.write(\"Bonjour, Python avec with.\\n\")\n",
        "\n",
        "# Lecture : idem\n",
        "with open(\"demo.txt\", \"r\", encoding=\"utf-8\") as f:\n",
        "    contenu = f.read()\n",
        "print(contenu.strip())"
      ]
    },
    {
      "cell_type": "markdown",
      "id": "f98b3f43",
      "metadata": {
        "id": "f98b3f43"
      },
      "source": [
        "## 2) `with` et TensorFlow : `tf.GradientTape`\n",
        "\n",
        "**Terminologie.** Le mot *tape* dans `GradientTape` se traduit utilement par **« enregistreur de gradients »** (métaphore d’une **bande d’enregistrement**). Entrer dans le bloc `with` démarre l’enregistrement des opérations appliquées aux tenseurs « surveillés » ; sortir du bloc l’arrête. On peut ensuite demander les **gradients** de sorties par rapport aux variables surveillées.\n"
      ]
    },
    {
      "cell_type": "code",
      "execution_count": null,
      "id": "d85efdbe",
      "metadata": {
        "id": "d85efdbe"
      },
      "outputs": [],
      "source": [
        "import tensorflow as tf\n",
        "\n",
        "# Variable \"entraînable\" (surveillée automatiquement par la tape)\n",
        "x = tf.Variable(3.0)\n",
        "\n",
        "with tf.GradientTape() as tape:        # démarrer l'enregistreur de gradients\n",
        "    y = x**2 + 2*x + 1                  # y = (x + 1)^2\n",
        "# sortie du bloc -> arrêt de l'enregistrement\n",
        "\n",
        "dy_dx = tape.gradient(y, x)             # dy/dx = 2*x + 2 en x=3 -> 8.0\n",
        "print(\"dy/dx =\", float(dy_dx))"
      ]
    },
    {
      "cell_type": "markdown",
      "id": "f29617d2",
      "metadata": {
        "id": "f29617d2"
      },
      "source": [
        "### Surveiller un `tf.constant`\n",
        "Les `tf.Variable` sont surveillées automatiquement. Pour un `tf.constant`, il faut le **déclarer** à l’enregistreur.\n"
      ]
    },
    {
      "cell_type": "code",
      "execution_count": null,
      "id": "df73d2b1",
      "metadata": {
        "id": "df73d2b1"
      },
      "outputs": [],
      "source": [
        "x = tf.constant(3.0)\n",
        "with tf.GradientTape() as tape:\n",
        "    tape.watch(x)     # important avec une constante\n",
        "    y = x**2\n",
        "print(\"d(x^2)/dx|_{x=3} =\", float(tape.gradient(y, x)))"
      ]
    },
    {
      "cell_type": "markdown",
      "id": "503d5c9f",
      "metadata": {
        "id": "503d5c9f"
      },
      "source": [
        "---\n",
        "## À retenir\n",
        "- `with ... as alias:` ouvre un **contexte** puis le **ferme automatiquement** en sortie.\n",
        "- Cas d’usage immédiat : **fichiers** (ouvrir/fermer sans `close()` explicite).\n",
        "- Avec `tf.GradientTape`, le bloc `with` joue le rôle d’un **enregistreur de gradients** : en entrée on commence à enregistrer, en sortie on arrête, puis on demande les gradients."
      ]
    },
    {
      "cell_type": "code",
      "source": [],
      "metadata": {
        "id": "pDY2C1x1Pzjm"
      },
      "id": "pDY2C1x1Pzjm",
      "execution_count": null,
      "outputs": []
    }
  ],
  "metadata": {
    "kernelspec": {
      "display_name": "Python 3",
      "language": "python",
      "name": "python3"
    },
    "language_info": {
      "name": "python",
      "version": "3.x"
    },
    "colab": {
      "provenance": [],
      "include_colab_link": true
    }
  },
  "nbformat": 4,
  "nbformat_minor": 5
}