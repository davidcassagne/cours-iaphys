{
  "cells": [
    {
      "cell_type": "markdown",
      "metadata": {
        "id": "view-in-github",
        "colab_type": "text"
      },
      "source": [
        "<a href=\"https://colab.research.google.com/github/davidcassagne/cours-iaphys/blob/main/chapter04_DCR_classification_and_regression.ipynb\" target=\"_parent\"><img src=\"https://colab.research.google.com/assets/colab-badge.svg\" alt=\"Open In Colab\"/></a>"
      ]
    },
    {
      "cell_type": "markdown",
      "metadata": {
        "id": "ZyAQAKKKmw7z"
      },
      "source": [
        "This is a companion notebook for the book [Deep Learning with Python, Third Edition](https://www.manning.com/books/deep-learning-with-python-third-edition). For readability, it only contains runnable code blocks and section titles, and omits everything else in the book: text paragraphs, figures, and pseudocode.\n",
        "\n",
        "**If you want to be able to follow what's going on, I recommend reading the notebook side by side with your copy of the book.**\n",
        "\n",
        "The book's contents are available online at [deeplearningwithpython.io](https://deeplearningwithpython.io)."
      ]
    },
    {
      "cell_type": "code",
      "execution_count": null,
      "metadata": {
        "id": "s6kkgIIImw70"
      },
      "outputs": [],
      "source": [
        "# Ajout DC\n",
        "# La ligne suivante est inutile dans Google Colab\n",
        "# !pip install keras keras-hub --upgrade -q"
      ]
    },
    {
      "cell_type": "code",
      "execution_count": null,
      "metadata": {
        "id": "dlBg6lWNmw70"
      },
      "outputs": [],
      "source": [
        "import os\n",
        "os.environ[\"KERAS_BACKEND\"] = \"jax\""
      ]
    },
    {
      "cell_type": "code",
      "execution_count": null,
      "metadata": {
        "cellView": "form",
        "id": "oR-_8ZbDmw70"
      },
      "outputs": [],
      "source": [
        "# @title\n",
        "import os\n",
        "from IPython.core.magic import register_cell_magic\n",
        "\n",
        "@register_cell_magic\n",
        "def backend(line, cell):\n",
        "    current, required = os.environ.get(\"KERAS_BACKEND\", \"\"), line.split()[-1]\n",
        "    if current == required:\n",
        "        get_ipython().run_cell(cell)\n",
        "    else:\n",
        "        print(\n",
        "            f\"This cell requires the {required} backend. To run it, change KERAS_BACKEND to \"\n",
        "            f\"\\\"{required}\\\" at the top of the notebook, restart the runtime, and rerun the notebook.\"\n",
        "        )"
      ]
    },
    {
      "cell_type": "markdown",
      "metadata": {
        "id": "eg3LZqEhmw71"
      },
      "source": [
        "## Classification and regression"
      ]
    },
    {
      "cell_type": "markdown",
      "metadata": {
        "id": "JXrNyI7Tmw71"
      },
      "source": [
        "### Classifying movie reviews: A binary classification example"
      ]
    },
    {
      "cell_type": "markdown",
      "metadata": {
        "id": "ogwAsKXtmw71"
      },
      "source": [
        "#### The IMDb dataset"
      ]
    },
    {
      "cell_type": "code",
      "execution_count": null,
      "metadata": {
        "id": "E0cEaVuUmw71",
        "outputId": "a16a0a61-3433-46fb-b2cf-a9648f32be71",
        "colab": {
          "base_uri": "https://localhost:8080/"
        }
      },
      "outputs": [
        {
          "output_type": "stream",
          "name": "stdout",
          "text": [
            "Downloading data from https://storage.googleapis.com/tensorflow/tf-keras-datasets/imdb.npz\n",
            "\u001b[1m17464789/17464789\u001b[0m \u001b[32m━━━━━━━━━━━━━━━━━━━━\u001b[0m\u001b[37m\u001b[0m \u001b[1m2s\u001b[0m 0us/step\n"
          ]
        }
      ],
      "source": [
        "from keras.datasets import imdb\n",
        "\n",
        "(train_data, train_labels), (test_data, test_labels) = imdb.load_data(\n",
        "    num_words=10000\n",
        ")"
      ]
    },
    {
      "cell_type": "code",
      "execution_count": null,
      "metadata": {
        "id": "-1dVEBGgmw71",
        "outputId": "9701b1e9-44a6-47b6-b4b2-e6b48a7c31db",
        "colab": {
          "base_uri": "https://localhost:8080/"
        }
      },
      "outputs": [
        {
          "output_type": "execute_result",
          "data": {
            "text/plain": [
              "[1,\n",
              " 14,\n",
              " 22,\n",
              " 16,\n",
              " 43,\n",
              " 530,\n",
              " 973,\n",
              " 1622,\n",
              " 1385,\n",
              " 65,\n",
              " 458,\n",
              " 4468,\n",
              " 66,\n",
              " 3941,\n",
              " 4,\n",
              " 173,\n",
              " 36,\n",
              " 256,\n",
              " 5,\n",
              " 25,\n",
              " 100,\n",
              " 43,\n",
              " 838,\n",
              " 112,\n",
              " 50,\n",
              " 670,\n",
              " 2,\n",
              " 9,\n",
              " 35,\n",
              " 480,\n",
              " 284,\n",
              " 5,\n",
              " 150,\n",
              " 4,\n",
              " 172,\n",
              " 112,\n",
              " 167,\n",
              " 2,\n",
              " 336,\n",
              " 385,\n",
              " 39,\n",
              " 4,\n",
              " 172,\n",
              " 4536,\n",
              " 1111,\n",
              " 17,\n",
              " 546,\n",
              " 38,\n",
              " 13,\n",
              " 447,\n",
              " 4,\n",
              " 192,\n",
              " 50,\n",
              " 16,\n",
              " 6,\n",
              " 147,\n",
              " 2025,\n",
              " 19,\n",
              " 14,\n",
              " 22,\n",
              " 4,\n",
              " 1920,\n",
              " 4613,\n",
              " 469,\n",
              " 4,\n",
              " 22,\n",
              " 71,\n",
              " 87,\n",
              " 12,\n",
              " 16,\n",
              " 43,\n",
              " 530,\n",
              " 38,\n",
              " 76,\n",
              " 15,\n",
              " 13,\n",
              " 1247,\n",
              " 4,\n",
              " 22,\n",
              " 17,\n",
              " 515,\n",
              " 17,\n",
              " 12,\n",
              " 16,\n",
              " 626,\n",
              " 18,\n",
              " 2,\n",
              " 5,\n",
              " 62,\n",
              " 386,\n",
              " 12,\n",
              " 8,\n",
              " 316,\n",
              " 8,\n",
              " 106,\n",
              " 5,\n",
              " 4,\n",
              " 2223,\n",
              " 5244,\n",
              " 16,\n",
              " 480,\n",
              " 66,\n",
              " 3785,\n",
              " 33,\n",
              " 4,\n",
              " 130,\n",
              " 12,\n",
              " 16,\n",
              " 38,\n",
              " 619,\n",
              " 5,\n",
              " 25,\n",
              " 124,\n",
              " 51,\n",
              " 36,\n",
              " 135,\n",
              " 48,\n",
              " 25,\n",
              " 1415,\n",
              " 33,\n",
              " 6,\n",
              " 22,\n",
              " 12,\n",
              " 215,\n",
              " 28,\n",
              " 77,\n",
              " 52,\n",
              " 5,\n",
              " 14,\n",
              " 407,\n",
              " 16,\n",
              " 82,\n",
              " 2,\n",
              " 8,\n",
              " 4,\n",
              " 107,\n",
              " 117,\n",
              " 5952,\n",
              " 15,\n",
              " 256,\n",
              " 4,\n",
              " 2,\n",
              " 7,\n",
              " 3766,\n",
              " 5,\n",
              " 723,\n",
              " 36,\n",
              " 71,\n",
              " 43,\n",
              " 530,\n",
              " 476,\n",
              " 26,\n",
              " 400,\n",
              " 317,\n",
              " 46,\n",
              " 7,\n",
              " 4,\n",
              " 2,\n",
              " 1029,\n",
              " 13,\n",
              " 104,\n",
              " 88,\n",
              " 4,\n",
              " 381,\n",
              " 15,\n",
              " 297,\n",
              " 98,\n",
              " 32,\n",
              " 2071,\n",
              " 56,\n",
              " 26,\n",
              " 141,\n",
              " 6,\n",
              " 194,\n",
              " 7486,\n",
              " 18,\n",
              " 4,\n",
              " 226,\n",
              " 22,\n",
              " 21,\n",
              " 134,\n",
              " 476,\n",
              " 26,\n",
              " 480,\n",
              " 5,\n",
              " 144,\n",
              " 30,\n",
              " 5535,\n",
              " 18,\n",
              " 51,\n",
              " 36,\n",
              " 28,\n",
              " 224,\n",
              " 92,\n",
              " 25,\n",
              " 104,\n",
              " 4,\n",
              " 226,\n",
              " 65,\n",
              " 16,\n",
              " 38,\n",
              " 1334,\n",
              " 88,\n",
              " 12,\n",
              " 16,\n",
              " 283,\n",
              " 5,\n",
              " 16,\n",
              " 4472,\n",
              " 113,\n",
              " 103,\n",
              " 32,\n",
              " 15,\n",
              " 16,\n",
              " 5345,\n",
              " 19,\n",
              " 178,\n",
              " 32]"
            ]
          },
          "metadata": {},
          "execution_count": 5
        }
      ],
      "source": [
        "train_data[0]"
      ]
    },
    {
      "cell_type": "code",
      "execution_count": null,
      "metadata": {
        "id": "85BZkydnmw71",
        "outputId": "a8cde61d-434e-4580-8c58-cbec33f88297",
        "colab": {
          "base_uri": "https://localhost:8080/"
        }
      },
      "outputs": [
        {
          "output_type": "execute_result",
          "data": {
            "text/plain": [
              "np.int64(1)"
            ]
          },
          "metadata": {},
          "execution_count": 6
        }
      ],
      "source": [
        "train_labels[0]"
      ]
    },
    {
      "cell_type": "code",
      "execution_count": null,
      "metadata": {
        "id": "zCDRhokBmw71",
        "outputId": "dcfe75db-cdcd-400e-a151-a06782221d64",
        "colab": {
          "base_uri": "https://localhost:8080/"
        }
      },
      "outputs": [
        {
          "output_type": "execute_result",
          "data": {
            "text/plain": [
              "9999"
            ]
          },
          "metadata": {},
          "execution_count": 7
        }
      ],
      "source": [
        "max([max(sequence) for sequence in train_data])"
      ]
    },
    {
      "cell_type": "code",
      "execution_count": null,
      "metadata": {
        "id": "80Xv2q_4mw71",
        "outputId": "4432c6c1-4411-46b1-fd2f-0abe39cfc552",
        "colab": {
          "base_uri": "https://localhost:8080/"
        }
      },
      "outputs": [
        {
          "output_type": "stream",
          "name": "stdout",
          "text": [
            "Downloading data from https://storage.googleapis.com/tensorflow/tf-keras-datasets/imdb_word_index.json\n",
            "\u001b[1m1641221/1641221\u001b[0m \u001b[32m━━━━━━━━━━━━━━━━━━━━\u001b[0m\u001b[37m\u001b[0m \u001b[1m1s\u001b[0m 1us/step\n"
          ]
        }
      ],
      "source": [
        "word_index = imdb.get_word_index()\n",
        "reverse_word_index = dict([(value, key) for (key, value) in word_index.items()])\n",
        "decoded_review = \" \".join(\n",
        "    [reverse_word_index.get(i - 3, \"?\") for i in train_data[0]]\n",
        ")"
      ]
    },
    {
      "cell_type": "code",
      "execution_count": null,
      "metadata": {
        "id": "kYCrAfXcmw72",
        "outputId": "8428aa99-9749-4d77-911e-c9a667e7aebf",
        "colab": {
          "base_uri": "https://localhost:8080/",
          "height": 53
        }
      },
      "outputs": [
        {
          "output_type": "execute_result",
          "data": {
            "text/plain": [
              "\"? this film was just brilliant casting location scenery story direction everyone's really suited the\""
            ],
            "application/vnd.google.colaboratory.intrinsic+json": {
              "type": "string"
            }
          },
          "metadata": {},
          "execution_count": 9
        }
      ],
      "source": [
        "decoded_review[:100]"
      ]
    },
    {
      "cell_type": "markdown",
      "metadata": {
        "id": "vyvwym6pmw72"
      },
      "source": [
        "#### Preparing the data"
      ]
    },
    {
      "cell_type": "code",
      "execution_count": null,
      "metadata": {
        "id": "9ZmpOHyumw72"
      },
      "outputs": [],
      "source": [
        "import numpy as np\n",
        "\n",
        "def multi_hot_encode(sequences, num_classes):\n",
        "    results = np.zeros((len(sequences), num_classes))\n",
        "    for i, sequence in enumerate(sequences):\n",
        "        results[i][sequence] = 1.0\n",
        "    return results\n",
        "\n",
        "x_train = multi_hot_encode(train_data, num_classes=10000)\n",
        "x_test = multi_hot_encode(test_data, num_classes=10000)"
      ]
    },
    {
      "cell_type": "code",
      "execution_count": null,
      "metadata": {
        "id": "6AsZdCg3mw72",
        "outputId": "b021f29b-f30e-4fa2-8119-a52c844dbc41",
        "colab": {
          "base_uri": "https://localhost:8080/"
        }
      },
      "outputs": [
        {
          "output_type": "execute_result",
          "data": {
            "text/plain": [
              "array([0., 1., 1., ..., 0., 0., 0.])"
            ]
          },
          "metadata": {},
          "execution_count": 11
        }
      ],
      "source": [
        "x_train[0]"
      ]
    },
    {
      "cell_type": "code",
      "execution_count": null,
      "metadata": {
        "id": "HD1vsyLgmw72"
      },
      "outputs": [],
      "source": [
        "y_train = train_labels.astype(\"float32\")\n",
        "y_test = test_labels.astype(\"float32\")"
      ]
    },
    {
      "cell_type": "markdown",
      "metadata": {
        "id": "NOwb7oRtmw72"
      },
      "source": [
        "#### Building your model"
      ]
    },
    {
      "cell_type": "code",
      "execution_count": null,
      "metadata": {
        "id": "buSAEWAJmw72"
      },
      "outputs": [],
      "source": [
        "import keras\n",
        "from keras import layers\n",
        "\n",
        "model = keras.Sequential(\n",
        "    [\n",
        "        layers.Dense(16, activation=\"relu\"),\n",
        "        layers.Dense(16, activation=\"relu\"),\n",
        "        layers.Dense(1, activation=\"sigmoid\"),\n",
        "    ]\n",
        ")"
      ]
    },
    {
      "cell_type": "code",
      "execution_count": null,
      "metadata": {
        "id": "g8AKB5aLmw72"
      },
      "outputs": [],
      "source": [
        "model.compile(\n",
        "    optimizer=\"adam\",\n",
        "    loss=\"binary_crossentropy\",\n",
        "    metrics=[\"accuracy\"],\n",
        ")"
      ]
    },
    {
      "cell_type": "markdown",
      "metadata": {
        "id": "2pA6BveKmw72"
      },
      "source": [
        "#### Validating your approach"
      ]
    },
    {
      "cell_type": "code",
      "execution_count": null,
      "metadata": {
        "id": "qE4PiigWmw72"
      },
      "outputs": [],
      "source": [
        "x_val = x_train[:10000]\n",
        "partial_x_train = x_train[10000:]\n",
        "y_val = y_train[:10000]\n",
        "partial_y_train = y_train[10000:]"
      ]
    },
    {
      "cell_type": "code",
      "execution_count": null,
      "metadata": {
        "id": "tWzAeJr_mw73",
        "outputId": "d72642cc-af91-46ff-bf71-992fe2ae9947",
        "colab": {
          "base_uri": "https://localhost:8080/"
        }
      },
      "outputs": [
        {
          "output_type": "stream",
          "name": "stdout",
          "text": [
            "Epoch 1/20\n",
            "\u001b[1m30/30\u001b[0m \u001b[32m━━━━━━━━━━━━━━━━━━━━\u001b[0m\u001b[37m\u001b[0m \u001b[1m14s\u001b[0m 301ms/step - accuracy: 0.6831 - loss: 0.6204 - val_accuracy: 0.8680 - val_loss: 0.3772\n",
            "Epoch 2/20\n",
            "\u001b[1m30/30\u001b[0m \u001b[32m━━━━━━━━━━━━━━━━━━━━\u001b[0m\u001b[37m\u001b[0m \u001b[1m2s\u001b[0m 24ms/step - accuracy: 0.9091 - loss: 0.2987 - val_accuracy: 0.8891 - val_loss: 0.2905\n",
            "Epoch 3/20\n",
            "\u001b[1m30/30\u001b[0m \u001b[32m━━━━━━━━━━━━━━━━━━━━\u001b[0m\u001b[37m\u001b[0m \u001b[1m1s\u001b[0m 25ms/step - accuracy: 0.9417 - loss: 0.1938 - val_accuracy: 0.8888 - val_loss: 0.2773\n",
            "Epoch 4/20\n",
            "\u001b[1m30/30\u001b[0m \u001b[32m━━━━━━━━━━━━━━━━━━━━\u001b[0m\u001b[37m\u001b[0m \u001b[1m1s\u001b[0m 25ms/step - accuracy: 0.9588 - loss: 0.1443 - val_accuracy: 0.8874 - val_loss: 0.2830\n",
            "Epoch 5/20\n",
            "\u001b[1m30/30\u001b[0m \u001b[32m━━━━━━━━━━━━━━━━━━━━\u001b[0m\u001b[37m\u001b[0m \u001b[1m1s\u001b[0m 24ms/step - accuracy: 0.9722 - loss: 0.1071 - val_accuracy: 0.8858 - val_loss: 0.2981\n",
            "Epoch 6/20\n",
            "\u001b[1m30/30\u001b[0m \u001b[32m━━━━━━━━━━━━━━━━━━━━\u001b[0m\u001b[37m\u001b[0m \u001b[1m1s\u001b[0m 24ms/step - accuracy: 0.9788 - loss: 0.0875 - val_accuracy: 0.8818 - val_loss: 0.3197\n",
            "Epoch 7/20\n",
            "\u001b[1m30/30\u001b[0m \u001b[32m━━━━━━━━━━━━━━━━━━━━\u001b[0m\u001b[37m\u001b[0m \u001b[1m1s\u001b[0m 24ms/step - accuracy: 0.9869 - loss: 0.0671 - val_accuracy: 0.8802 - val_loss: 0.3413\n",
            "Epoch 8/20\n",
            "\u001b[1m30/30\u001b[0m \u001b[32m━━━━━━━━━━━━━━━━━━━━\u001b[0m\u001b[37m\u001b[0m \u001b[1m1s\u001b[0m 24ms/step - accuracy: 0.9932 - loss: 0.0489 - val_accuracy: 0.8781 - val_loss: 0.3682\n",
            "Epoch 9/20\n",
            "\u001b[1m30/30\u001b[0m \u001b[32m━━━━━━━━━━━━━━━━━━━━\u001b[0m\u001b[37m\u001b[0m \u001b[1m1s\u001b[0m 24ms/step - accuracy: 0.9946 - loss: 0.0405 - val_accuracy: 0.8767 - val_loss: 0.3964\n",
            "Epoch 10/20\n",
            "\u001b[1m30/30\u001b[0m \u001b[32m━━━━━━━━━━━━━━━━━━━━\u001b[0m\u001b[37m\u001b[0m \u001b[1m1s\u001b[0m 24ms/step - accuracy: 0.9970 - loss: 0.0317 - val_accuracy: 0.8763 - val_loss: 0.4233\n",
            "Epoch 11/20\n",
            "\u001b[1m30/30\u001b[0m \u001b[32m━━━━━━━━━━━━━━━━━━━━\u001b[0m\u001b[37m\u001b[0m \u001b[1m1s\u001b[0m 25ms/step - accuracy: 0.9984 - loss: 0.0229 - val_accuracy: 0.8744 - val_loss: 0.4512\n",
            "Epoch 12/20\n",
            "\u001b[1m30/30\u001b[0m \u001b[32m━━━━━━━━━━━━━━━━━━━━\u001b[0m\u001b[37m\u001b[0m \u001b[1m1s\u001b[0m 25ms/step - accuracy: 0.9995 - loss: 0.0173 - val_accuracy: 0.8740 - val_loss: 0.4770\n",
            "Epoch 13/20\n",
            "\u001b[1m30/30\u001b[0m \u001b[32m━━━━━━━━━━━━━━━━━━━━\u001b[0m\u001b[37m\u001b[0m \u001b[1m1s\u001b[0m 24ms/step - accuracy: 0.9995 - loss: 0.0134 - val_accuracy: 0.8720 - val_loss: 0.5012\n",
            "Epoch 14/20\n",
            "\u001b[1m30/30\u001b[0m \u001b[32m━━━━━━━━━━━━━━━━━━━━\u001b[0m\u001b[37m\u001b[0m \u001b[1m1s\u001b[0m 25ms/step - accuracy: 0.9996 - loss: 0.0108 - val_accuracy: 0.8721 - val_loss: 0.5211\n",
            "Epoch 15/20\n",
            "\u001b[1m30/30\u001b[0m \u001b[32m━━━━━━━━━━━━━━━━━━━━\u001b[0m\u001b[37m\u001b[0m \u001b[1m1s\u001b[0m 25ms/step - accuracy: 0.9997 - loss: 0.0086 - val_accuracy: 0.8702 - val_loss: 0.5422\n",
            "Epoch 16/20\n",
            "\u001b[1m30/30\u001b[0m \u001b[32m━━━━━━━━━━━━━━━━━━━━\u001b[0m\u001b[37m\u001b[0m \u001b[1m1s\u001b[0m 25ms/step - accuracy: 0.9997 - loss: 0.0070 - val_accuracy: 0.8700 - val_loss: 0.5602\n",
            "Epoch 17/20\n",
            "\u001b[1m30/30\u001b[0m \u001b[32m━━━━━━━━━━━━━━━━━━━━\u001b[0m\u001b[37m\u001b[0m \u001b[1m1s\u001b[0m 25ms/step - accuracy: 0.9999 - loss: 0.0055 - val_accuracy: 0.8704 - val_loss: 0.5776\n",
            "Epoch 18/20\n",
            "\u001b[1m30/30\u001b[0m \u001b[32m━━━━━━━━━━━━━━━━━━━━\u001b[0m\u001b[37m\u001b[0m \u001b[1m1s\u001b[0m 25ms/step - accuracy: 1.0000 - loss: 0.0043 - val_accuracy: 0.8695 - val_loss: 0.5938\n",
            "Epoch 19/20\n",
            "\u001b[1m30/30\u001b[0m \u001b[32m━━━━━━━━━━━━━━━━━━━━\u001b[0m\u001b[37m\u001b[0m \u001b[1m1s\u001b[0m 26ms/step - accuracy: 0.9998 - loss: 0.0040 - val_accuracy: 0.8693 - val_loss: 0.6090\n",
            "Epoch 20/20\n",
            "\u001b[1m30/30\u001b[0m \u001b[32m━━━━━━━━━━━━━━━━━━━━\u001b[0m\u001b[37m\u001b[0m \u001b[1m1s\u001b[0m 24ms/step - accuracy: 0.9999 - loss: 0.0032 - val_accuracy: 0.8694 - val_loss: 0.6214\n"
          ]
        }
      ],
      "source": [
        "history = model.fit(\n",
        "    partial_x_train,\n",
        "    partial_y_train,\n",
        "    epochs=20,\n",
        "    batch_size=512,\n",
        "    validation_data=(x_val, y_val),\n",
        ")"
      ]
    },
    {
      "cell_type": "markdown",
      "source": [
        "**Modification DC**\n",
        "\n",
        "On aurait pu aussi procéder ainsi :\n",
        "\n",
        "```\n",
        "history = model.fit(\n",
        "    x_train,\n",
        "    y_train,\n",
        "    epochs=20,\n",
        "    batch_size=512,\n",
        "    validation_split=0.2,\n",
        ")\n",
        "\n",
        "```"
      ],
      "metadata": {
        "id": "_wtqTtI3mw73"
      }
    },
    {
      "cell_type": "code",
      "execution_count": null,
      "metadata": {
        "id": "eEGFtyKSmw73",
        "outputId": "25a0a42c-59c9-494c-f58a-b83cc91112ad",
        "colab": {
          "base_uri": "https://localhost:8080/"
        }
      },
      "outputs": [
        {
          "output_type": "execute_result",
          "data": {
            "text/plain": [
              "dict_keys(['accuracy', 'loss', 'val_accuracy', 'val_loss'])"
            ]
          },
          "metadata": {},
          "execution_count": 17
        }
      ],
      "source": [
        "history_dict = history.history\n",
        "history_dict.keys()"
      ]
    },
    {
      "cell_type": "code",
      "execution_count": null,
      "metadata": {
        "id": "NF5pUdAmmw73",
        "outputId": "65d21d80-7e2c-4cf3-f6b0-0c4f33c938dc",
        "colab": {
          "base_uri": "https://localhost:8080/",
          "height": 472
        }
      },
      "outputs": [
        {
          "output_type": "display_data",
          "data": {
            "text/plain": [
              "<Figure size 640x480 with 1 Axes>"
            ],
            "image/png": "[encoded data removed]"
          },
          "metadata": {}
        }
      ],
      "source": [
        "import matplotlib.pyplot as plt\n",
        "\n",
        "history_dict = history.history\n",
        "loss_values = history_dict[\"loss\"]\n",
        "val_loss_values = history_dict[\"val_loss\"]\n",
        "epochs = range(1, len(loss_values) + 1)\n",
        "plt.plot(epochs, loss_values, \"r--\", label=\"Training loss\")\n",
        "plt.plot(epochs, val_loss_values, \"b\", label=\"Validation loss\")\n",
        "plt.title(\"[IMDB] Training and validation loss\")\n",
        "plt.xlabel(\"Epochs\")\n",
        "plt.xticks(epochs)\n",
        "plt.ylabel(\"Loss\")\n",
        "plt.legend()\n",
        "plt.show()"
      ]
    },
    {
      "cell_type": "code",
      "execution_count": null,
      "metadata": {
        "id": "4LUfa8-wmw73",
        "outputId": "edc3b044-1660-4f3e-8c2e-0ff6491d77e6",
        "colab": {
          "base_uri": "https://localhost:8080/",
          "height": 472
        }
      },
      "outputs": [
        {
          "output_type": "display_data",
          "data": {
            "text/plain": [
              "<Figure size 640x480 with 1 Axes>"
            ],
            "image/png": "[encoded data removed]"
          },
          "metadata": {}
        }
      ],
      "source": [
        "plt.clf()\n",
        "acc = history_dict[\"accuracy\"]\n",
        "val_acc = history_dict[\"val_accuracy\"]\n",
        "plt.plot(epochs, acc, \"r--\", label=\"Training acc\")\n",
        "plt.plot(epochs, val_acc, \"b\", label=\"Validation acc\")\n",
        "plt.title(\"[IMDB] Training and validation accuracy\")\n",
        "plt.xlabel(\"Epochs\")\n",
        "plt.xticks(epochs)\n",
        "plt.ylabel(\"Accuracy\")\n",
        "plt.legend()\n",
        "plt.show()"
      ]
    },
    {
      "cell_type": "code",
      "execution_count": null,
      "metadata": {
        "id": "rxg_cTKNmw73",
        "outputId": "26fa8fdd-2871-4f07-8ad4-96c1e0bd8945",
        "colab": {
          "base_uri": "https://localhost:8080/"
        }
      },
      "outputs": [
        {
          "output_type": "stream",
          "name": "stdout",
          "text": [
            "Epoch 1/4\n",
            "\u001b[1m49/49\u001b[0m \u001b[32m━━━━━━━━━━━━━━━━━━━━\u001b[0m\u001b[37m\u001b[0m \u001b[1m8s\u001b[0m 133ms/step - accuracy: 0.7362 - loss: 0.5745\n",
            "Epoch 2/4\n",
            "\u001b[1m49/49\u001b[0m \u001b[32m━━━━━━━━━━━━━━━━━━━━\u001b[0m\u001b[37m\u001b[0m \u001b[1m2s\u001b[0m 13ms/step - accuracy: 0.9125 - loss: 0.2511\n",
            "Epoch 3/4\n",
            "\u001b[1m49/49\u001b[0m \u001b[32m━━━━━━━━━━━━━━━━━━━━\u001b[0m\u001b[37m\u001b[0m \u001b[1m1s\u001b[0m 13ms/step - accuracy: 0.9432 - loss: 0.1721\n",
            "Epoch 4/4\n",
            "\u001b[1m49/49\u001b[0m \u001b[32m━━━━━━━━━━━━━━━━━━━━\u001b[0m\u001b[37m\u001b[0m \u001b[1m1s\u001b[0m 13ms/step - accuracy: 0.9566 - loss: 0.1372\n",
            "\u001b[1m782/782\u001b[0m \u001b[32m━━━━━━━━━━━━━━━━━━━━\u001b[0m\u001b[37m\u001b[0m \u001b[1m5s\u001b[0m 3ms/step - accuracy: 0.8751 - loss: 0.3286\n"
          ]
        }
      ],
      "source": [
        "model = keras.Sequential(\n",
        "    [\n",
        "        layers.Dense(16, activation=\"relu\"),\n",
        "        layers.Dense(16, activation=\"relu\"),\n",
        "        layers.Dense(1, activation=\"sigmoid\"),\n",
        "    ]\n",
        ")\n",
        "model.compile(\n",
        "    optimizer=\"adam\",\n",
        "    loss=\"binary_crossentropy\",\n",
        "    metrics=[\"accuracy\"],\n",
        ")\n",
        "model.fit(x_train, y_train, epochs=4, batch_size=512)\n",
        "results = model.evaluate(x_test, y_test)"
      ]
    },
    {
      "cell_type": "code",
      "execution_count": null,
      "metadata": {
        "id": "RxJbKJYymw73",
        "outputId": "c28b7a19-d503-440d-bfe8-fd875ee06844",
        "colab": {
          "base_uri": "https://localhost:8080/"
        }
      },
      "outputs": [
        {
          "output_type": "execute_result",
          "data": {
            "text/plain": [
              "[0.32634055614471436, 0.8768799901008606]"
            ]
          },
          "metadata": {},
          "execution_count": 21
        }
      ],
      "source": [
        "results"
      ]
    },
    {
      "cell_type": "markdown",
      "metadata": {
        "id": "AHvMLfXAmw73"
      },
      "source": [
        "#### Using a trained model to generate predictions on new data"
      ]
    },
    {
      "cell_type": "code",
      "execution_count": null,
      "metadata": {
        "id": "wL9iJWFHmw73",
        "outputId": "17398c53-77b1-4d74-ed59-da2dc02b122a",
        "colab": {
          "base_uri": "https://localhost:8080/"
        }
      },
      "outputs": [
        {
          "output_type": "stream",
          "name": "stdout",
          "text": [
            "\u001b[1m782/782\u001b[0m \u001b[32m━━━━━━━━━━━━━━━━━━━━\u001b[0m\u001b[37m\u001b[0m \u001b[1m2s\u001b[0m 1ms/step  \n"
          ]
        },
        {
          "output_type": "execute_result",
          "data": {
            "text/plain": [
              "array([[0.13137494],\n",
              "       [0.9999788 ],\n",
              "       [0.5548425 ],\n",
              "       ...,\n",
              "       [0.07212413],\n",
              "       [0.05488528],\n",
              "       [0.60882777]], dtype=float32)"
            ]
          },
          "metadata": {},
          "execution_count": 22
        }
      ],
      "source": [
        "model.predict(x_test)"
      ]
    },
    {
      "cell_type": "markdown",
      "metadata": {
        "id": "-a9YJwUGmw73"
      },
      "source": [
        "#### Further experiments"
      ]
    },
    {
      "cell_type": "markdown",
      "metadata": {
        "id": "zG_W0S5Smw73"
      },
      "source": [
        "#### Wrapping up"
      ]
    },
    {
      "cell_type": "markdown",
      "metadata": {
        "id": "pA8rF87Cmw74"
      },
      "source": [
        "### Classifying newswires: A multiclass classification example"
      ]
    },
    {
      "cell_type": "markdown",
      "metadata": {
        "id": "wvm8PtKnmw74"
      },
      "source": [
        "#### The Reuters dataset"
      ]
    },
    {
      "cell_type": "code",
      "execution_count": null,
      "metadata": {
        "id": "1b2ED_Bxmw74",
        "outputId": "32d1908d-ece4-44f6-a1f9-a2eb01ead554",
        "colab": {
          "base_uri": "https://localhost:8080/"
        }
      },
      "outputs": [
        {
          "output_type": "stream",
          "name": "stdout",
          "text": [
            "Downloading data from https://storage.googleapis.com/tensorflow/tf-keras-datasets/reuters.npz\n",
            "\u001b[1m2110848/2110848\u001b[0m \u001b[32m━━━━━━━━━━━━━━━━━━━━\u001b[0m\u001b[37m\u001b[0m \u001b[1m1s\u001b[0m 1us/step\n"
          ]
        }
      ],
      "source": [
        "from keras.datasets import reuters\n",
        "\n",
        "(train_data, train_labels), (test_data, test_labels) = reuters.load_data(\n",
        "    num_words=10000\n",
        ")"
      ]
    },
    {
      "cell_type": "code",
      "execution_count": null,
      "metadata": {
        "id": "kre7fYL8mw74",
        "outputId": "14861285-e9fb-40af-bac2-ea1a8bbd727f",
        "colab": {
          "base_uri": "https://localhost:8080/"
        }
      },
      "outputs": [
        {
          "output_type": "execute_result",
          "data": {
            "text/plain": [
              "8982"
            ]
          },
          "metadata": {},
          "execution_count": 24
        }
      ],
      "source": [
        "len(train_data)"
      ]
    },
    {
      "cell_type": "code",
      "execution_count": null,
      "metadata": {
        "id": "bt3JViTPmw74",
        "outputId": "bb6aee4d-fd7a-4880-f0c4-8ce82fc5a087",
        "colab": {
          "base_uri": "https://localhost:8080/"
        }
      },
      "outputs": [
        {
          "output_type": "execute_result",
          "data": {
            "text/plain": [
              "2246"
            ]
          },
          "metadata": {},
          "execution_count": 25
        }
      ],
      "source": [
        "len(test_data)"
      ]
    },
    {
      "cell_type": "code",
      "execution_count": null,
      "metadata": {
        "id": "AJNlh8Xtmw74",
        "outputId": "74733fdf-11fe-4cb9-9c8b-5a2ecf17204e",
        "colab": {
          "base_uri": "https://localhost:8080/"
        }
      },
      "outputs": [
        {
          "output_type": "execute_result",
          "data": {
            "text/plain": [
              "[1,\n",
              " 245,\n",
              " 273,\n",
              " 207,\n",
              " 156,\n",
              " 53,\n",
              " 74,\n",
              " 160,\n",
              " 26,\n",
              " 14,\n",
              " 46,\n",
              " 296,\n",
              " 26,\n",
              " 39,\n",
              " 74,\n",
              " 2979,\n",
              " 3554,\n",
              " 14,\n",
              " 46,\n",
              " 4689,\n",
              " 4329,\n",
              " 86,\n",
              " 61,\n",
              " 3499,\n",
              " 4795,\n",
              " 14,\n",
              " 61,\n",
              " 451,\n",
              " 4329,\n",
              " 17,\n",
              " 12]"
            ]
          },
          "metadata": {},
          "execution_count": 26
        }
      ],
      "source": [
        "train_data[10]"
      ]
    },
    {
      "cell_type": "code",
      "execution_count": null,
      "metadata": {
        "id": "q82u-DNMmw8A",
        "outputId": "a9516a96-2b34-46b2-8c09-3ae97acec545",
        "colab": {
          "base_uri": "https://localhost:8080/"
        }
      },
      "outputs": [
        {
          "output_type": "stream",
          "name": "stdout",
          "text": [
            "Downloading data from https://storage.googleapis.com/tensorflow/tf-keras-datasets/reuters_word_index.json\n",
            "\u001b[1m550378/550378\u001b[0m \u001b[32m━━━━━━━━━━━━━━━━━━━━\u001b[0m\u001b[37m\u001b[0m \u001b[1m1s\u001b[0m 1us/step\n"
          ]
        }
      ],
      "source": [
        "word_index = reuters.get_word_index()\n",
        "reverse_word_index = dict([(value, key) for (key, value) in word_index.items()])\n",
        "decoded_newswire = \" \".join(\n",
        "    [reverse_word_index.get(i - 3, \"?\") for i in train_data[10]]\n",
        ")"
      ]
    },
    {
      "cell_type": "code",
      "execution_count": null,
      "metadata": {
        "id": "RS0eEdtAmw8A",
        "outputId": "8889cba4-1a8d-43bc-b361-02bd3b274ce0",
        "colab": {
          "base_uri": "https://localhost:8080/"
        }
      },
      "outputs": [
        {
          "output_type": "execute_result",
          "data": {
            "text/plain": [
              "np.int64(3)"
            ]
          },
          "metadata": {},
          "execution_count": 28
        }
      ],
      "source": [
        "train_labels[10]"
      ]
    },
    {
      "cell_type": "markdown",
      "metadata": {
        "id": "W7rnCfbDmw8A"
      },
      "source": [
        "#### Preparing the data"
      ]
    },
    {
      "cell_type": "code",
      "execution_count": null,
      "metadata": {
        "id": "xL-I71wfmw8A"
      },
      "outputs": [],
      "source": [
        "x_train = multi_hot_encode(train_data, num_classes=10000)\n",
        "x_test = multi_hot_encode(test_data, num_classes=10000)"
      ]
    },
    {
      "cell_type": "code",
      "execution_count": null,
      "metadata": {
        "id": "XR4irelYmw8A"
      },
      "outputs": [],
      "source": [
        "def one_hot_encode(labels, num_classes=46):\n",
        "    results = np.zeros((len(labels), num_classes))\n",
        "    for i, label in enumerate(labels):\n",
        "        results[i, label] = 1.0\n",
        "    return results\n",
        "\n",
        "y_train = one_hot_encode(train_labels)\n",
        "y_test = one_hot_encode(test_labels)"
      ]
    },
    {
      "cell_type": "code",
      "execution_count": null,
      "metadata": {
        "id": "hf89XDXWmw8A"
      },
      "outputs": [],
      "source": [
        "from keras.utils import to_categorical\n",
        "\n",
        "y_train = to_categorical(train_labels)\n",
        "y_test = to_categorical(test_labels)"
      ]
    },
    {
      "cell_type": "markdown",
      "metadata": {
        "id": "SvcBkuiNmw8A"
      },
      "source": [
        "#### Building your model"
      ]
    },
    {
      "cell_type": "code",
      "execution_count": null,
      "metadata": {
        "id": "2pdd2VTRmw8B"
      },
      "outputs": [],
      "source": [
        "model = keras.Sequential(\n",
        "    [\n",
        "        layers.Dense(64, activation=\"relu\"),\n",
        "        layers.Dense(64, activation=\"relu\"),\n",
        "        layers.Dense(46, activation=\"softmax\"),\n",
        "    ]\n",
        ")"
      ]
    },
    {
      "cell_type": "code",
      "execution_count": null,
      "metadata": {
        "id": "JP8y_scLmw8B"
      },
      "outputs": [],
      "source": [
        "top_3_accuracy = keras.metrics.TopKCategoricalAccuracy(\n",
        "    k=3, name=\"top_3_accuracy\"\n",
        ")\n",
        "model.compile(\n",
        "    optimizer=\"adam\",\n",
        "    loss=\"categorical_crossentropy\",\n",
        "    metrics=[\"accuracy\", top_3_accuracy],\n",
        ")"
      ]
    },
    {
      "cell_type": "markdown",
      "metadata": {
        "id": "AnNKJX08mw8B"
      },
      "source": [
        "#### Validating your approach"
      ]
    },
    {
      "cell_type": "code",
      "execution_count": null,
      "metadata": {
        "id": "3hHOBMPamw8B"
      },
      "outputs": [],
      "source": [
        "x_val = x_train[:1000]\n",
        "partial_x_train = x_train[1000:]\n",
        "y_val = y_train[:1000]\n",
        "partial_y_train = y_train[1000:]"
      ]
    },
    {
      "cell_type": "code",
      "execution_count": null,
      "metadata": {
        "id": "oyIrxu1Zmw8B",
        "outputId": "e4a7de21-08f0-4df4-8d36-e2a741ee9855",
        "colab": {
          "base_uri": "https://localhost:8080/"
        }
      },
      "outputs": [
        {
          "output_type": "stream",
          "name": "stdout",
          "text": [
            "Epoch 1/20\n",
            "\u001b[1m16/16\u001b[0m \u001b[32m━━━━━━━━━━━━━━━━━━━━\u001b[0m\u001b[37m\u001b[0m \u001b[1m34s\u001b[0m 1s/step - accuracy: 0.2354 - loss: 3.5837 - top_3_accuracy: 0.3966 - val_accuracy: 0.5590 - val_loss: 2.5939 - val_top_3_accuracy: 0.6860\n",
            "Epoch 2/20\n",
            "\u001b[1m16/16\u001b[0m \u001b[32m━━━━━━━━━━━━━━━━━━━━\u001b[0m\u001b[37m\u001b[0m \u001b[1m3s\u001b[0m 15ms/step - accuracy: 0.5915 - loss: 2.2091 - top_3_accuracy: 0.7134 - val_accuracy: 0.6510 - val_loss: 1.6464 - val_top_3_accuracy: 0.7630\n",
            "Epoch 3/20\n",
            "\u001b[1m16/16\u001b[0m \u001b[32m━━━━━━━━━━━━━━━━━━━━\u001b[0m\u001b[37m\u001b[0m \u001b[1m0s\u001b[0m 16ms/step - accuracy: 0.7047 - loss: 1.4093 - top_3_accuracy: 0.7978 - val_accuracy: 0.7160 - val_loss: 1.2798 - val_top_3_accuracy: 0.8330\n",
            "Epoch 4/20\n",
            "\u001b[1m16/16\u001b[0m \u001b[32m━━━━━━━━━━━━━━━━━━━━\u001b[0m\u001b[37m\u001b[0m \u001b[1m0s\u001b[0m 15ms/step - accuracy: 0.7675 - loss: 1.0498 - top_3_accuracy: 0.8655 - val_accuracy: 0.7530 - val_loss: 1.1248 - val_top_3_accuracy: 0.8620\n",
            "Epoch 5/20\n",
            "\u001b[1m16/16\u001b[0m \u001b[32m━━━━━━━━━━━━━━━━━━━━\u001b[0m\u001b[37m\u001b[0m \u001b[1m0s\u001b[0m 16ms/step - accuracy: 0.8214 - loss: 0.8139 - top_3_accuracy: 0.9022 - val_accuracy: 0.7910 - val_loss: 1.0133 - val_top_3_accuracy: 0.8820\n",
            "Epoch 6/20\n",
            "\u001b[1m16/16\u001b[0m \u001b[32m━━━━━━━━━━━━━━━━━━━━\u001b[0m\u001b[37m\u001b[0m \u001b[1m0s\u001b[0m 16ms/step - accuracy: 0.8615 - loss: 0.6450 - top_3_accuracy: 0.9408 - val_accuracy: 0.8010 - val_loss: 0.9480 - val_top_3_accuracy: 0.9010\n",
            "Epoch 7/20\n",
            "\u001b[1m16/16\u001b[0m \u001b[32m━━━━━━━━━━━━━━━━━━━━\u001b[0m\u001b[37m\u001b[0m \u001b[1m0s\u001b[0m 15ms/step - accuracy: 0.8945 - loss: 0.4934 - top_3_accuracy: 0.9684 - val_accuracy: 0.8060 - val_loss: 0.9110 - val_top_3_accuracy: 0.9150\n",
            "Epoch 8/20\n",
            "\u001b[1m16/16\u001b[0m \u001b[32m━━━━━━━━━━━━━━━━━━━━\u001b[0m\u001b[37m\u001b[0m \u001b[1m0s\u001b[0m 15ms/step - accuracy: 0.9256 - loss: 0.3734 - top_3_accuracy: 0.9832 - val_accuracy: 0.8160 - val_loss: 0.8944 - val_top_3_accuracy: 0.9180\n",
            "Epoch 9/20\n",
            "\u001b[1m16/16\u001b[0m \u001b[32m━━━━━━━━━━━━━━━━━━━━\u001b[0m\u001b[37m\u001b[0m \u001b[1m0s\u001b[0m 15ms/step - accuracy: 0.9355 - loss: 0.3147 - top_3_accuracy: 0.9867 - val_accuracy: 0.8160 - val_loss: 0.8884 - val_top_3_accuracy: 0.9230\n",
            "Epoch 10/20\n",
            "\u001b[1m16/16\u001b[0m \u001b[32m━━━━━━━━━━━━━━━━━━━━\u001b[0m\u001b[37m\u001b[0m \u001b[1m0s\u001b[0m 15ms/step - accuracy: 0.9446 - loss: 0.2503 - top_3_accuracy: 0.9926 - val_accuracy: 0.8190 - val_loss: 0.8877 - val_top_3_accuracy: 0.9220\n",
            "Epoch 11/20\n",
            "\u001b[1m16/16\u001b[0m \u001b[32m━━━━━━━━━━━━━━━━━━━━\u001b[0m\u001b[37m\u001b[0m \u001b[1m0s\u001b[0m 15ms/step - accuracy: 0.9549 - loss: 0.2019 - top_3_accuracy: 0.9949 - val_accuracy: 0.8160 - val_loss: 0.9019 - val_top_3_accuracy: 0.9240\n",
            "Epoch 12/20\n",
            "\u001b[1m16/16\u001b[0m \u001b[32m━━━━━━━━━━━━━━━━━━━━\u001b[0m\u001b[37m\u001b[0m \u001b[1m0s\u001b[0m 15ms/step - accuracy: 0.9565 - loss: 0.1760 - top_3_accuracy: 0.9956 - val_accuracy: 0.8150 - val_loss: 0.9143 - val_top_3_accuracy: 0.9250\n",
            "Epoch 13/20\n",
            "\u001b[1m16/16\u001b[0m \u001b[32m━━━━━━━━━━━━━━━━━━━━\u001b[0m\u001b[37m\u001b[0m \u001b[1m0s\u001b[0m 15ms/step - accuracy: 0.9574 - loss: 0.1541 - top_3_accuracy: 0.9966 - val_accuracy: 0.8160 - val_loss: 0.9255 - val_top_3_accuracy: 0.9240\n",
            "Epoch 14/20\n",
            "\u001b[1m16/16\u001b[0m \u001b[32m━━━━━━━━━━━━━━━━━━━━\u001b[0m\u001b[37m\u001b[0m \u001b[1m0s\u001b[0m 15ms/step - accuracy: 0.9643 - loss: 0.1253 - top_3_accuracy: 0.9973 - val_accuracy: 0.8110 - val_loss: 0.9393 - val_top_3_accuracy: 0.9240\n",
            "Epoch 15/20\n",
            "\u001b[1m16/16\u001b[0m \u001b[32m━━━━━━━━━━━━━━━━━━━━\u001b[0m\u001b[37m\u001b[0m \u001b[1m0s\u001b[0m 16ms/step - accuracy: 0.9621 - loss: 0.1204 - top_3_accuracy: 0.9975 - val_accuracy: 0.8160 - val_loss: 0.9547 - val_top_3_accuracy: 0.9260\n",
            "Epoch 16/20\n",
            "\u001b[1m16/16\u001b[0m \u001b[32m━━━━━━━━━━━━━━━━━━━━\u001b[0m\u001b[37m\u001b[0m \u001b[1m0s\u001b[0m 15ms/step - accuracy: 0.9622 - loss: 0.1118 - top_3_accuracy: 0.9979 - val_accuracy: 0.8120 - val_loss: 0.9676 - val_top_3_accuracy: 0.9220\n",
            "Epoch 17/20\n",
            "\u001b[1m16/16\u001b[0m \u001b[32m━━━━━━━━━━━━━━━━━━━━\u001b[0m\u001b[37m\u001b[0m \u001b[1m0s\u001b[0m 15ms/step - accuracy: 0.9619 - loss: 0.1047 - top_3_accuracy: 0.9986 - val_accuracy: 0.8120 - val_loss: 0.9819 - val_top_3_accuracy: 0.9260\n",
            "Epoch 18/20\n",
            "\u001b[1m16/16\u001b[0m \u001b[32m━━━━━━━━━━━━━━━━━━━━\u001b[0m\u001b[37m\u001b[0m \u001b[1m0s\u001b[0m 16ms/step - accuracy: 0.9652 - loss: 0.0996 - top_3_accuracy: 0.9988 - val_accuracy: 0.8060 - val_loss: 0.9947 - val_top_3_accuracy: 0.9230\n",
            "Epoch 19/20\n",
            "\u001b[1m16/16\u001b[0m \u001b[32m━━━━━━━━━━━━━━━━━━━━\u001b[0m\u001b[37m\u001b[0m \u001b[1m0s\u001b[0m 16ms/step - accuracy: 0.9648 - loss: 0.0958 - top_3_accuracy: 0.9983 - val_accuracy: 0.8110 - val_loss: 0.9995 - val_top_3_accuracy: 0.9230\n",
            "Epoch 20/20\n",
            "\u001b[1m16/16\u001b[0m \u001b[32m━━━━━━━━━━━━━━━━━━━━\u001b[0m\u001b[37m\u001b[0m \u001b[1m0s\u001b[0m 17ms/step - accuracy: 0.9654 - loss: 0.0866 - top_3_accuracy: 0.9994 - val_accuracy: 0.8160 - val_loss: 1.0112 - val_top_3_accuracy: 0.9220\n"
          ]
        }
      ],
      "source": [
        "history = model.fit(\n",
        "    partial_x_train,\n",
        "    partial_y_train,\n",
        "    epochs=20,\n",
        "    batch_size=512,\n",
        "    validation_data=(x_val, y_val),\n",
        ")"
      ]
    },
    {
      "cell_type": "code",
      "execution_count": null,
      "metadata": {
        "id": "qnIsrBBqmw8B",
        "outputId": "28bb4ea2-513b-4244-cad5-cd0ccf60c68a",
        "colab": {
          "base_uri": "https://localhost:8080/",
          "height": 472
        }
      },
      "outputs": [
        {
          "output_type": "display_data",
          "data": {
            "text/plain": [
              "<Figure size 640x480 with 1 Axes>"
            ],
            "image/png": "[encoded data removed]"
          },
          "metadata": {}
        }
      ],
      "source": [
        "loss = history.history[\"loss\"]\n",
        "val_loss = history.history[\"val_loss\"]\n",
        "epochs = range(1, len(loss) + 1)\n",
        "plt.plot(epochs, loss, \"r--\", label=\"Training loss\")\n",
        "plt.plot(epochs, val_loss, \"b\", label=\"Validation loss\")\n",
        "plt.title(\"Training and validation loss\")\n",
        "plt.xlabel(\"Epochs\")\n",
        "plt.xticks(epochs)\n",
        "plt.ylabel(\"Loss\")\n",
        "plt.legend()\n",
        "plt.show()"
      ]
    },
    {
      "cell_type": "code",
      "execution_count": null,
      "metadata": {
        "id": "1dbPeOttmw8B",
        "outputId": "e4a0585e-58db-43f9-d30b-e77094d8def7",
        "colab": {
          "base_uri": "https://localhost:8080/",
          "height": 472
        }
      },
      "outputs": [
        {
          "output_type": "display_data",
          "data": {
            "text/plain": [
              "<Figure size 640x480 with 1 Axes>"
            ],
            "image/png": "[encoded data removed]"
          },
          "metadata": {}
        }
      ],
      "source": [
        "plt.clf()\n",
        "acc = history.history[\"accuracy\"]\n",
        "val_acc = history.history[\"val_accuracy\"]\n",
        "plt.plot(epochs, acc, \"r--\", label=\"Training accuracy\")\n",
        "plt.plot(epochs, val_acc, \"b\", label=\"Validation accuracy\")\n",
        "plt.title(\"Training and validation accuracy\")\n",
        "plt.xlabel(\"Epochs\")\n",
        "plt.xticks(epochs)\n",
        "plt.ylabel(\"Accuracy\")\n",
        "plt.legend()\n",
        "plt.show()"
      ]
    },
    {
      "cell_type": "code",
      "execution_count": null,
      "metadata": {
        "id": "CvA0k3ghmw8B",
        "outputId": "ab01b423-ae59-48ab-9bf1-c4cc7d94a291",
        "colab": {
          "base_uri": "https://localhost:8080/",
          "height": 472
        }
      },
      "outputs": [
        {
          "output_type": "display_data",
          "data": {
            "text/plain": [
              "<Figure size 640x480 with 1 Axes>"
            ],
            "image/png": "[encoded data removed]"
          },
          "metadata": {}
        }
      ],
      "source": [
        "plt.clf()\n",
        "acc = history.history[\"top_3_accuracy\"]\n",
        "val_acc = history.history[\"val_top_3_accuracy\"]\n",
        "plt.plot(epochs, acc, \"r--\", label=\"Training top-3 accuracy\")\n",
        "plt.plot(epochs, val_acc, \"b\", label=\"Validation top-3 accuracy\")\n",
        "plt.title(\"Training and validation top-3 accuracy\")\n",
        "plt.xlabel(\"Epochs\")\n",
        "plt.xticks(epochs)\n",
        "plt.ylabel(\"Top-3 accuracy\")\n",
        "plt.legend()\n",
        "plt.show()"
      ]
    },
    {
      "cell_type": "code",
      "execution_count": null,
      "metadata": {
        "id": "5WlkRbjwmw8B",
        "outputId": "00da4023-9ea7-4168-adf8-bd55038c49d5",
        "colab": {
          "base_uri": "https://localhost:8080/"
        }
      },
      "outputs": [
        {
          "output_type": "stream",
          "name": "stdout",
          "text": [
            "Epoch 1/9\n",
            "\u001b[1m18/18\u001b[0m \u001b[32m━━━━━━━━━━━━━━━━━━━━\u001b[0m\u001b[37m\u001b[0m \u001b[1m20s\u001b[0m 997ms/step - accuracy: 0.2720 - loss: 3.5293\n",
            "Epoch 2/9\n",
            "\u001b[1m18/18\u001b[0m \u001b[32m━━━━━━━━━━━━━━━━━━━━\u001b[0m\u001b[37m\u001b[0m \u001b[1m3s\u001b[0m 13ms/step - accuracy: 0.5579 - loss: 2.1272\n",
            "Epoch 3/9\n",
            "\u001b[1m18/18\u001b[0m \u001b[32m━━━━━━━━━━━━━━━━━━━━\u001b[0m\u001b[37m\u001b[0m \u001b[1m0s\u001b[0m 13ms/step - accuracy: 0.7019 - loss: 1.4185\n",
            "Epoch 4/9\n",
            "\u001b[1m18/18\u001b[0m \u001b[32m━━━━━━━━━━━━━━━━━━━━\u001b[0m\u001b[37m\u001b[0m \u001b[1m0s\u001b[0m 13ms/step - accuracy: 0.7744 - loss: 1.0603\n",
            "Epoch 5/9\n",
            "\u001b[1m18/18\u001b[0m \u001b[32m━━━━━━━━━━━━━━━━━━━━\u001b[0m\u001b[37m\u001b[0m \u001b[1m0s\u001b[0m 13ms/step - accuracy: 0.8240 - loss: 0.8188\n",
            "Epoch 6/9\n",
            "\u001b[1m18/18\u001b[0m \u001b[32m━━━━━━━━━━━━━━━━━━━━\u001b[0m\u001b[37m\u001b[0m \u001b[1m0s\u001b[0m 12ms/step - accuracy: 0.8649 - loss: 0.6308\n",
            "Epoch 7/9\n",
            "\u001b[1m18/18\u001b[0m \u001b[32m━━━━━━━━━━━━━━━━━━━━\u001b[0m\u001b[37m\u001b[0m \u001b[1m0s\u001b[0m 13ms/step - accuracy: 0.9006 - loss: 0.4685\n",
            "Epoch 8/9\n",
            "\u001b[1m18/18\u001b[0m \u001b[32m━━━━━━━━━━━━━━━━━━━━\u001b[0m\u001b[37m\u001b[0m \u001b[1m0s\u001b[0m 13ms/step - accuracy: 0.9269 - loss: 0.3562\n",
            "Epoch 9/9\n",
            "\u001b[1m18/18\u001b[0m \u001b[32m━━━━━━━━━━━━━━━━━━━━\u001b[0m\u001b[37m\u001b[0m \u001b[1m0s\u001b[0m 12ms/step - accuracy: 0.9366 - loss: 0.2891\n",
            "\u001b[1m71/71\u001b[0m \u001b[32m━━━━━━━━━━━━━━━━━━━━\u001b[0m\u001b[37m\u001b[0m \u001b[1m5s\u001b[0m 41ms/step - accuracy: 0.8030 - loss: 0.9180\n"
          ]
        }
      ],
      "source": [
        "model = keras.Sequential(\n",
        "    [\n",
        "        layers.Dense(64, activation=\"relu\"),\n",
        "        layers.Dense(64, activation=\"relu\"),\n",
        "        layers.Dense(46, activation=\"softmax\"),\n",
        "    ]\n",
        ")\n",
        "model.compile(\n",
        "    optimizer=\"adam\",\n",
        "    loss=\"categorical_crossentropy\",\n",
        "    metrics=[\"accuracy\"],\n",
        ")\n",
        "model.fit(\n",
        "    x_train,\n",
        "    y_train,\n",
        "    epochs=9,\n",
        "    batch_size=512,\n",
        ")\n",
        "results = model.evaluate(x_test, y_test)"
      ]
    },
    {
      "cell_type": "code",
      "execution_count": null,
      "metadata": {
        "id": "3NXQ9AkKmw8C",
        "outputId": "5de8cc5c-41af-4a0f-d7a0-5963af05080d",
        "colab": {
          "base_uri": "https://localhost:8080/"
        }
      },
      "outputs": [
        {
          "output_type": "execute_result",
          "data": {
            "text/plain": [
              "[0.9278110265731812, 0.7951914668083191]"
            ]
          },
          "metadata": {},
          "execution_count": 40
        }
      ],
      "source": [
        "results"
      ]
    },
    {
      "cell_type": "code",
      "execution_count": null,
      "metadata": {
        "id": "Onu-B9kGmw8C",
        "outputId": "155413fc-4229-45c6-ce71-f1523e888353",
        "colab": {
          "base_uri": "https://localhost:8080/"
        }
      },
      "outputs": [
        {
          "output_type": "execute_result",
          "data": {
            "text/plain": [
              "np.float64(0.19723953695458593)"
            ]
          },
          "metadata": {},
          "execution_count": 41
        }
      ],
      "source": [
        "import copy\n",
        "test_labels_copy = copy.copy(test_labels)\n",
        "np.random.shuffle(test_labels_copy)\n",
        "hits_array = np.array(test_labels == test_labels_copy)\n",
        "hits_array.mean()"
      ]
    },
    {
      "cell_type": "markdown",
      "metadata": {
        "id": "Ru3dvyyUmw8C"
      },
      "source": [
        "#### Generating predictions on new data"
      ]
    },
    {
      "cell_type": "code",
      "execution_count": null,
      "metadata": {
        "id": "uiXm0UA2mw8C",
        "outputId": "02878522-081d-4146-8b83-6bc7c7986737",
        "colab": {
          "base_uri": "https://localhost:8080/"
        }
      },
      "outputs": [
        {
          "output_type": "stream",
          "name": "stdout",
          "text": [
            "\u001b[1m71/71\u001b[0m \u001b[32m━━━━━━━━━━━━━━━━━━━━\u001b[0m\u001b[37m\u001b[0m \u001b[1m1s\u001b[0m 5ms/step\n"
          ]
        }
      ],
      "source": [
        "predictions = model.predict(x_test)"
      ]
    },
    {
      "cell_type": "code",
      "execution_count": null,
      "metadata": {
        "id": "5ofY4NIqmw8C",
        "outputId": "e84192cd-f61f-4769-ea22-f5bde02a8339",
        "colab": {
          "base_uri": "https://localhost:8080/"
        }
      },
      "outputs": [
        {
          "output_type": "execute_result",
          "data": {
            "text/plain": [
              "(46,)"
            ]
          },
          "metadata": {},
          "execution_count": 43
        }
      ],
      "source": [
        "predictions[0].shape"
      ]
    },
    {
      "cell_type": "code",
      "execution_count": null,
      "metadata": {
        "id": "Xi0isOw0mw8C",
        "outputId": "d8604b67-4c3e-4b66-b8d8-e5182ab4f295",
        "colab": {
          "base_uri": "https://localhost:8080/"
        }
      },
      "outputs": [
        {
          "output_type": "execute_result",
          "data": {
            "text/plain": [
              "np.float32(0.99999994)"
            ]
          },
          "metadata": {},
          "execution_count": 44
        }
      ],
      "source": [
        "np.sum(predictions[0])"
      ]
    },
    {
      "cell_type": "code",
      "execution_count": null,
      "metadata": {
        "id": "57PeiZpsmw8C",
        "outputId": "502acf5b-80f0-49cf-977f-240945f2f3b9",
        "colab": {
          "base_uri": "https://localhost:8080/"
        }
      },
      "outputs": [
        {
          "output_type": "execute_result",
          "data": {
            "text/plain": [
              "np.int64(3)"
            ]
          },
          "metadata": {},
          "execution_count": 45
        }
      ],
      "source": [
        "np.argmax(predictions[0])"
      ]
    },
    {
      "cell_type": "markdown",
      "metadata": {
        "id": "MDeABTXSmw8C"
      },
      "source": [
        "#### A different way to handle the labels and the loss"
      ]
    },
    {
      "cell_type": "code",
      "execution_count": null,
      "metadata": {
        "id": "hitONyWlmw8C"
      },
      "outputs": [],
      "source": [
        "y_train = train_labels\n",
        "y_test = test_labels"
      ]
    },
    {
      "cell_type": "code",
      "execution_count": null,
      "metadata": {
        "id": "-HmfDy64mw8D"
      },
      "outputs": [],
      "source": [
        "model.compile(\n",
        "    optimizer=\"adam\",\n",
        "    loss=\"sparse_categorical_crossentropy\",\n",
        "    metrics=[\"accuracy\"],\n",
        ")"
      ]
    },
    {
      "cell_type": "markdown",
      "metadata": {
        "id": "PWZzUgaWmw8D"
      },
      "source": [
        "#### The importance of having sufficiently large intermediate layers"
      ]
    },
    {
      "cell_type": "code",
      "execution_count": null,
      "metadata": {
        "id": "PvLgrIunmw8D",
        "outputId": "8558a44b-21a4-4bdf-8ae8-81ddd6abd10d",
        "colab": {
          "base_uri": "https://localhost:8080/"
        }
      },
      "outputs": [
        {
          "output_type": "stream",
          "name": "stdout",
          "text": [
            "Epoch 1/20\n",
            "\u001b[1m63/63\u001b[0m \u001b[32m━━━━━━━━━━━━━━━━━━━━\u001b[0m\u001b[37m\u001b[0m \u001b[1m19s\u001b[0m 192ms/step - accuracy: 0.1250 - loss: 3.4677 - val_accuracy: 0.5850 - val_loss: 2.2825\n",
            "Epoch 2/20\n",
            "\u001b[1m63/63\u001b[0m \u001b[32m━━━━━━━━━━━━━━━━━━━━\u001b[0m\u001b[37m\u001b[0m \u001b[1m2s\u001b[0m 4ms/step - accuracy: 0.5887 - loss: 1.9589 - val_accuracy: 0.6050 - val_loss: 1.6017\n",
            "Epoch 3/20\n",
            "\u001b[1m63/63\u001b[0m \u001b[32m━━━━━━━━━━━━━━━━━━━━\u001b[0m\u001b[37m\u001b[0m \u001b[1m0s\u001b[0m 4ms/step - accuracy: 0.6377 - loss: 1.4064 - val_accuracy: 0.6390 - val_loss: 1.4607\n",
            "Epoch 4/20\n",
            "\u001b[1m63/63\u001b[0m \u001b[32m━━━━━━━━━━━━━━━━━━━━\u001b[0m\u001b[37m\u001b[0m \u001b[1m0s\u001b[0m 4ms/step - accuracy: 0.6869 - loss: 1.1683 - val_accuracy: 0.6690 - val_loss: 1.3878\n",
            "Epoch 5/20\n",
            "\u001b[1m63/63\u001b[0m \u001b[32m━━━━━━━━━━━━━━━━━━━━\u001b[0m\u001b[37m\u001b[0m \u001b[1m0s\u001b[0m 4ms/step - accuracy: 0.7375 - loss: 1.0124 - val_accuracy: 0.6840 - val_loss: 1.3677\n",
            "Epoch 6/20\n",
            "\u001b[1m63/63\u001b[0m \u001b[32m━━━━━━━━━━━━━━━━━━━━\u001b[0m\u001b[37m\u001b[0m \u001b[1m0s\u001b[0m 4ms/step - accuracy: 0.7691 - loss: 0.8760 - val_accuracy: 0.6880 - val_loss: 1.3611\n",
            "Epoch 7/20\n",
            "\u001b[1m63/63\u001b[0m \u001b[32m━━━━━━━━━━━━━━━━━━━━\u001b[0m\u001b[37m\u001b[0m \u001b[1m0s\u001b[0m 4ms/step - accuracy: 0.7716 - loss: 0.8094 - val_accuracy: 0.6920 - val_loss: 1.3565\n",
            "Epoch 8/20\n",
            "\u001b[1m63/63\u001b[0m \u001b[32m━━━━━━━━━━━━━━━━━━━━\u001b[0m\u001b[37m\u001b[0m \u001b[1m0s\u001b[0m 4ms/step - accuracy: 0.7865 - loss: 0.7455 - val_accuracy: 0.6920 - val_loss: 1.3900\n",
            "Epoch 9/20\n",
            "\u001b[1m63/63\u001b[0m \u001b[32m━━━━━━━━━━━━━━━━━━━━\u001b[0m\u001b[37m\u001b[0m \u001b[1m0s\u001b[0m 4ms/step - accuracy: 0.7991 - loss: 0.6802 - val_accuracy: 0.6930 - val_loss: 1.4078\n",
            "Epoch 10/20\n",
            "\u001b[1m63/63\u001b[0m \u001b[32m━━━━━━━━━━━━━━━━━━━━\u001b[0m\u001b[37m\u001b[0m \u001b[1m0s\u001b[0m 4ms/step - accuracy: 0.8120 - loss: 0.6266 - val_accuracy: 0.6970 - val_loss: 1.4146\n",
            "Epoch 11/20\n",
            "\u001b[1m63/63\u001b[0m \u001b[32m━━━━━━━━━━━━━━━━━━━━\u001b[0m\u001b[37m\u001b[0m \u001b[1m0s\u001b[0m 4ms/step - accuracy: 0.8214 - loss: 0.6026 - val_accuracy: 0.6990 - val_loss: 1.4674\n",
            "Epoch 12/20\n",
            "\u001b[1m63/63\u001b[0m \u001b[32m━━━━━━━━━━━━━━━━━━━━\u001b[0m\u001b[37m\u001b[0m \u001b[1m0s\u001b[0m 4ms/step - accuracy: 0.8371 - loss: 0.5408 - val_accuracy: 0.7010 - val_loss: 1.5005\n",
            "Epoch 13/20\n",
            "\u001b[1m63/63\u001b[0m \u001b[32m━━━━━━━━━━━━━━━━━━━━\u001b[0m\u001b[37m\u001b[0m \u001b[1m0s\u001b[0m 4ms/step - accuracy: 0.8452 - loss: 0.5374 - val_accuracy: 0.7120 - val_loss: 1.5404\n",
            "Epoch 14/20\n",
            "\u001b[1m63/63\u001b[0m \u001b[32m━━━━━━━━━━━━━━━━━━━━\u001b[0m\u001b[37m\u001b[0m \u001b[1m0s\u001b[0m 4ms/step - accuracy: 0.8578 - loss: 0.5054 - val_accuracy: 0.7090 - val_loss: 1.5223\n",
            "Epoch 15/20\n",
            "\u001b[1m63/63\u001b[0m \u001b[32m━━━━━━━━━━━━━━━━━━━━\u001b[0m\u001b[37m\u001b[0m \u001b[1m0s\u001b[0m 4ms/step - accuracy: 0.8669 - loss: 0.4719 - val_accuracy: 0.7090 - val_loss: 1.5624\n",
            "Epoch 16/20\n",
            "\u001b[1m63/63\u001b[0m \u001b[32m━━━━━━━━━━━━━━━━━━━━\u001b[0m\u001b[37m\u001b[0m \u001b[1m0s\u001b[0m 4ms/step - accuracy: 0.8743 - loss: 0.4435 - val_accuracy: 0.7140 - val_loss: 1.6338\n",
            "Epoch 17/20\n",
            "\u001b[1m63/63\u001b[0m \u001b[32m━━━━━━━━━━━━━━━━━━━━\u001b[0m\u001b[37m\u001b[0m \u001b[1m0s\u001b[0m 4ms/step - accuracy: 0.8819 - loss: 0.4145 - val_accuracy: 0.7150 - val_loss: 1.6660\n",
            "Epoch 18/20\n",
            "\u001b[1m63/63\u001b[0m \u001b[32m━━━━━━━━━━━━━━━━━━━━\u001b[0m\u001b[37m\u001b[0m \u001b[1m0s\u001b[0m 4ms/step - accuracy: 0.8786 - loss: 0.4226 - val_accuracy: 0.7060 - val_loss: 1.7022\n",
            "Epoch 19/20\n",
            "\u001b[1m63/63\u001b[0m \u001b[32m━━━━━━━━━━━━━━━━━━━━\u001b[0m\u001b[37m\u001b[0m \u001b[1m0s\u001b[0m 4ms/step - accuracy: 0.8855 - loss: 0.3919 - val_accuracy: 0.7140 - val_loss: 1.7293\n",
            "Epoch 20/20\n",
            "\u001b[1m63/63\u001b[0m \u001b[32m━━━━━━━━━━━━━━━━━━━━\u001b[0m\u001b[37m\u001b[0m \u001b[1m0s\u001b[0m 4ms/step - accuracy: 0.8885 - loss: 0.3699 - val_accuracy: 0.7120 - val_loss: 1.7414\n"
          ]
        },
        {
          "output_type": "execute_result",
          "data": {
            "text/plain": [
              "<keras.src.callbacks.history.History at 0x7b4b712b7a70>"
            ]
          },
          "metadata": {},
          "execution_count": 48
        }
      ],
      "source": [
        "model = keras.Sequential(\n",
        "    [\n",
        "        layers.Dense(64, activation=\"relu\"),\n",
        "        layers.Dense(4, activation=\"relu\"),\n",
        "        layers.Dense(46, activation=\"softmax\"),\n",
        "    ]\n",
        ")\n",
        "model.compile(\n",
        "    optimizer=\"adam\",\n",
        "    loss=\"categorical_crossentropy\",\n",
        "    metrics=[\"accuracy\"],\n",
        ")\n",
        "model.fit(\n",
        "    partial_x_train,\n",
        "    partial_y_train,\n",
        "    epochs=20,\n",
        "    batch_size=128,\n",
        "    validation_data=(x_val, y_val),\n",
        ")"
      ]
    },
    {
      "cell_type": "markdown",
      "metadata": {
        "id": "qi8r39mGmw8D"
      },
      "source": [
        "#### Further experiments"
      ]
    },
    {
      "cell_type": "markdown",
      "metadata": {
        "id": "pU4kqeGHmw8D"
      },
      "source": [
        "#### Wrapping up"
      ]
    },
    {
      "cell_type": "markdown",
      "metadata": {
        "id": "o5ojqlhTmw8D"
      },
      "source": [
        "### Predicting house prices: A regression example"
      ]
    },
    {
      "cell_type": "markdown",
      "metadata": {
        "id": "g8bY90O1mw8D"
      },
      "source": [
        "#### The California Housing Price dataset"
      ]
    },
    {
      "cell_type": "code",
      "execution_count": null,
      "metadata": {
        "id": "E0qXF91_mw8D",
        "outputId": "46036f08-c117-4a88-f219-0910b2b4e682",
        "colab": {
          "base_uri": "https://localhost:8080/"
        }
      },
      "outputs": [
        {
          "output_type": "stream",
          "name": "stdout",
          "text": [
            "Downloading data from https://storage.googleapis.com/tensorflow/tf-keras-datasets/california_housing.npz\n",
            "\u001b[1m743530/743530\u001b[0m \u001b[32m━━━━━━━━━━━━━━━━━━━━\u001b[0m\u001b[37m\u001b[0m \u001b[1m1s\u001b[0m 1us/step\n"
          ]
        }
      ],
      "source": [
        "from keras.datasets import california_housing\n",
        "\n",
        "(train_data, train_targets), (test_data, test_targets) = (\n",
        "    california_housing.load_data(version=\"small\")\n",
        ")"
      ]
    },
    {
      "cell_type": "code",
      "execution_count": null,
      "metadata": {
        "id": "LV554JGSmw8D",
        "outputId": "438db7a9-589b-402e-f5ad-8a362dbb20ae",
        "colab": {
          "base_uri": "https://localhost:8080/"
        }
      },
      "outputs": [
        {
          "output_type": "execute_result",
          "data": {
            "text/plain": [
              "(480, 8)"
            ]
          },
          "metadata": {},
          "execution_count": 50
        }
      ],
      "source": [
        "train_data.shape"
      ]
    },
    {
      "cell_type": "code",
      "execution_count": null,
      "metadata": {
        "id": "PzxNSy7gmw8D",
        "outputId": "820d7c62-17d3-4fcb-9a23-b9395420fd33",
        "colab": {
          "base_uri": "https://localhost:8080/"
        }
      },
      "outputs": [
        {
          "output_type": "execute_result",
          "data": {
            "text/plain": [
              "(120, 8)"
            ]
          },
          "metadata": {},
          "execution_count": 51
        }
      ],
      "source": [
        "test_data.shape"
      ]
    },
    {
      "cell_type": "code",
      "execution_count": null,
      "metadata": {
        "id": "it2vl3Ctmw8E",
        "outputId": "664c411b-7d57-42da-fecf-f38e4fbcf7e2",
        "colab": {
          "base_uri": "https://localhost:8080/"
        }
      },
      "outputs": [
        {
          "output_type": "execute_result",
          "data": {
            "text/plain": [
              "array([228400., 132900.,  60000.,  95200., 107000., 122500., 132000.,\n",
              "       290100., 257800., 390100., 220800., 284900.,  97500., 415300.,\n",
              "        84200., 185600., 216700., 233100., 127000., 182300.,  92300.,\n",
              "        90700., 102100., 112500., 350700., 156500., 220700., 147400.,\n",
              "       216700., 275000., 198200., 119100., 289500., 152500., 125000.,\n",
              "       104500.,  93800.,  89300., 452600., 128600., 311500.,  90000.,\n",
              "       218200., 131300.,  67500., 139400., 500001., 182600., 111300.,\n",
              "       112500., 134700.,  71300., 207400., 331400., 107900.,  87500.,\n",
              "       342200.,  87100., 314700., 368600., 211600., 338900., 366100.,\n",
              "       164300.,  91700., 261400., 218500., 155400., 273700.,  81800.,\n",
              "       138800.,  99700., 156300., 140600., 152700., 108900., 351200.,\n",
              "       126000., 137500., 196900., 240000., 172800., 254200.,  97500.,\n",
              "       182700., 162500.,  86100., 226700., 412500., 165900., 327100.,\n",
              "       162500., 188800., 183800.,  90600., 372000., 275000., 151800.,\n",
              "       125000., 129100., 176000., 124700., 215300., 198100., 206300.,\n",
              "       122300., 277800., 335200., 274700., 132600., 143900., 299200.,\n",
              "       160000., 210200., 171400., 138800., 203300., 143800.,  85800.,\n",
              "        75000., 112200., 340400., 105500., 208100., 270900.,  85700.,\n",
              "        81300., 352100., 285800., 270600., 216700., 270100., 374400.,\n",
              "       192100., 241700., 341300., 150000., 126300., 118800., 500001.,\n",
              "        95200., 173700., 175000., 113900., 335000., 100000., 235600.,\n",
              "       109700., 210200.,  81400., 286600., 201300., 142300., 102300.,\n",
              "       184400.,  98300., 295200., 247100., 107500., 104900.,  79700.,\n",
              "       112500., 318200.,  83400., 269500., 227900., 287500., 261100.,\n",
              "       166900., 144000., 245500., 101600., 471600., 240700., 137500.,\n",
              "        75000.,  80800., 257300., 162900., 292000., 323500., 126900.,\n",
              "       351800., 269700., 212900., 259600., 268500., 182300., 197900.,\n",
              "       213500., 107600., 231600., 335300., 257400., 100000., 206200.,\n",
              "       119400., 118100.,  92500., 158700., 289900., 101400., 125000.,\n",
              "        91400., 500001., 500001., 275700., 457800., 239800., 250000.,\n",
              "       191700., 130000., 156900., 118800.,  88800., 153100., 231000.,\n",
              "       430500., 333300., 141900., 140000., 209400., 270900., 225000.,\n",
              "       229100., 150000., 164700.,  82800., 135800., 116700., 405400.,\n",
              "       231600.,  89500., 276800., 248600., 195800.,  98200., 319300.,\n",
              "       241700., 229800., 306300., 118000., 227700., 128800., 344000.,\n",
              "       120000., 110400., 335600., 109400., 161900., 135300., 142500.,\n",
              "       347600., 391800.,  82400., 332500., 336800., 109500., 391100.,\n",
              "        84700., 252900., 200000., 164300., 187500., 392600., 417500.,\n",
              "       263400., 313400., 115400.,  76100., 253600., 265400., 218800.,\n",
              "       116100., 169300., 114800., 358800., 302100., 143800., 446200.,\n",
              "       456300., 293000., 142600., 137500., 157300., 229300., 102200.,\n",
              "       169900., 243100.,  86500., 111100., 246200., 208800., 248500.,\n",
              "       295200., 500001., 164400., 365900., 296400., 376900., 242800.,\n",
              "        91800., 129500., 130600., 220900., 250000., 263900.,  72500.,\n",
              "       234100., 144800., 150000.,  70000.,  90500., 105500., 218400.,\n",
              "       282100., 147500., 224200., 120100., 104200.,  97200., 112500.,\n",
              "        94800., 273000., 159800., 225000.,  96200., 327600., 111900.,\n",
              "       266700., 333000., 375400., 350000., 103900., 243800.,  87100.,\n",
              "       141700., 366700.,  80000., 174200., 106300., 102000.,  88900.,\n",
              "       348700., 132500., 272900., 292300., 231800., 162500., 187500.,\n",
              "       352400., 384600., 153600., 240900., 500001., 189600., 151000.,\n",
              "       163500., 229200.,  98700., 138800., 136700., 398600., 254900.,\n",
              "       137000., 146900., 371300., 220800., 346800., 341600., 199600.,\n",
              "       140600., 342200., 137500., 411500., 125000.,  72000.,  83500.,\n",
              "       357300., 187500., 410300., 112500., 273800., 179300., 143400.,\n",
              "       121600., 177500., 252800., 287500., 271400., 121400., 131900.,\n",
              "       329800.,  85000., 127900., 155500., 172700., 113300., 125000.,\n",
              "       252500., 102400., 136700., 221300., 191400.,  82000., 218500.,\n",
              "       227000., 144800., 500001., 232500., 243400., 259400., 137500.,\n",
              "       337300., 179200., 102800., 207900., 362900., 350000.,  73500.,\n",
              "       371100., 182700., 389500., 140600.,  87500., 142900., 196400.,\n",
              "       126600., 123500., 311100., 159200.,  95000.,  81800., 253500.,\n",
              "       215700., 171900.,  85300.,  80600.,  89300.,  84400.,  75000.,\n",
              "       228100.,  95500., 187100.,  94800., 224100., 239600., 115000.,\n",
              "       353900., 256100., 335700., 291700., 206300., 119400., 350000.,\n",
              "       287300., 191300.,  93800., 175000., 500001., 179300., 118800.,\n",
              "       206800., 179900.,  80300., 195500., 147900., 483300., 268800.,\n",
              "       158400.,  94300.,  97300., 275400., 248900., 273400., 259300.,\n",
              "        75700., 336700., 140500., 217100.], dtype=float32)"
            ]
          },
          "metadata": {},
          "execution_count": 52
        }
      ],
      "source": [
        "train_targets"
      ]
    },
    {
      "cell_type": "markdown",
      "metadata": {
        "id": "WyAQl8g7mw8E"
      },
      "source": [
        "#### Preparing the data"
      ]
    },
    {
      "cell_type": "code",
      "execution_count": null,
      "metadata": {
        "id": "P6nnFll6mw8E"
      },
      "outputs": [],
      "source": [
        "mean = train_data.mean(axis=0)\n",
        "std = train_data.std(axis=0)\n",
        "x_train = (train_data - mean) / std\n",
        "x_test = (test_data - mean) / std"
      ]
    },
    {
      "cell_type": "code",
      "execution_count": null,
      "metadata": {
        "id": "4MjENRXgmw8E"
      },
      "outputs": [],
      "source": [
        "y_train = train_targets / 100000\n",
        "y_test = test_targets / 100000"
      ]
    },
    {
      "cell_type": "markdown",
      "metadata": {
        "id": "141PgYfimw8E"
      },
      "source": [
        "#### Building your model"
      ]
    },
    {
      "cell_type": "code",
      "execution_count": null,
      "metadata": {
        "id": "Ufsx1S5xmw8E"
      },
      "outputs": [],
      "source": [
        "def get_model():\n",
        "    model = keras.Sequential(\n",
        "        [\n",
        "            layers.Dense(64, activation=\"relu\"),\n",
        "            layers.Dense(64, activation=\"relu\"),\n",
        "            layers.Dense(1),\n",
        "        ]\n",
        "    )\n",
        "    model.compile(\n",
        "        optimizer=\"adam\",\n",
        "        loss=\"mean_squared_error\",\n",
        "        metrics=[\"mean_absolute_error\"],\n",
        "    )\n",
        "    return model"
      ]
    },
    {
      "cell_type": "markdown",
      "metadata": {
        "id": "6u5Ku1dPmw8E"
      },
      "source": [
        "#### Validating your approach using K-fold validation"
      ]
    },
    {
      "cell_type": "code",
      "execution_count": null,
      "metadata": {
        "id": "UgYhD6lAmw8E",
        "outputId": "074018ed-b040-4768-fbf3-bf789cf57a88",
        "colab": {
          "base_uri": "https://localhost:8080/"
        }
      },
      "outputs": [
        {
          "output_type": "stream",
          "name": "stdout",
          "text": [
            "Processing fold #1\n",
            "Processing fold #2\n",
            "Processing fold #3\n",
            "Processing fold #4\n"
          ]
        }
      ],
      "source": [
        "k = 4\n",
        "num_val_samples = len(x_train) // k\n",
        "num_epochs = 50\n",
        "all_scores = []\n",
        "for i in range(k):\n",
        "    print(f\"Processing fold #{i + 1}\")\n",
        "    fold_x_val = x_train[i * num_val_samples : (i + 1) * num_val_samples]\n",
        "    fold_y_val = y_train[i * num_val_samples : (i + 1) * num_val_samples]\n",
        "    fold_x_train = np.concatenate(\n",
        "        [x_train[: i * num_val_samples], x_train[(i + 1) * num_val_samples :]],\n",
        "        axis=0,\n",
        "    )\n",
        "    fold_y_train = np.concatenate(\n",
        "        [y_train[: i * num_val_samples], y_train[(i + 1) * num_val_samples :]],\n",
        "        axis=0,\n",
        "    )\n",
        "    model = get_model()\n",
        "    model.fit(\n",
        "        fold_x_train,\n",
        "        fold_y_train,\n",
        "        epochs=num_epochs,\n",
        "        batch_size=16,\n",
        "        verbose=0,\n",
        "    )\n",
        "    scores = model.evaluate(fold_x_val, fold_y_val, verbose=0)\n",
        "    val_loss, val_mae = scores\n",
        "    all_scores.append(val_mae)"
      ]
    },
    {
      "cell_type": "code",
      "execution_count": null,
      "metadata": {
        "id": "idyBd9Ugmw8E",
        "outputId": "325ebd48-c5d5-4532-fb90-44328c1b69e1",
        "colab": {
          "base_uri": "https://localhost:8080/"
        }
      },
      "outputs": [
        {
          "output_type": "execute_result",
          "data": {
            "text/plain": [
              "[0.301, 0.293, 0.24, 0.333]"
            ]
          },
          "metadata": {},
          "execution_count": 57
        }
      ],
      "source": [
        "[round(value, 3) for value in all_scores]"
      ]
    },
    {
      "cell_type": "code",
      "execution_count": null,
      "metadata": {
        "id": "4IeUIoH0mw8E",
        "outputId": "b224085c-8272-49c4-f321-9f9cc1aa13d6",
        "colab": {
          "base_uri": "https://localhost:8080/"
        }
      },
      "outputs": [
        {
          "output_type": "execute_result",
          "data": {
            "text/plain": [
              "np.float64(0.292)"
            ]
          },
          "metadata": {},
          "execution_count": 58
        }
      ],
      "source": [
        "round(np.mean(all_scores), 3)"
      ]
    },
    {
      "cell_type": "code",
      "execution_count": null,
      "metadata": {
        "id": "tX1TzD1hmw8F",
        "outputId": "0afd3692-a006-424d-a3bb-442543a1cde1",
        "colab": {
          "base_uri": "https://localhost:8080/"
        }
      },
      "outputs": [
        {
          "output_type": "stream",
          "name": "stdout",
          "text": [
            "Processing fold #1\n",
            "Processing fold #2\n",
            "Processing fold #3\n",
            "Processing fold #4\n"
          ]
        }
      ],
      "source": [
        "k = 4\n",
        "num_val_samples = len(x_train) // k\n",
        "num_epochs = 200\n",
        "all_mae_histories = []\n",
        "for i in range(k):\n",
        "    print(f\"Processing fold #{i + 1}\")\n",
        "    fold_x_val = x_train[i * num_val_samples : (i + 1) * num_val_samples]\n",
        "    fold_y_val = y_train[i * num_val_samples : (i + 1) * num_val_samples]\n",
        "    fold_x_train = np.concatenate(\n",
        "        [x_train[: i * num_val_samples], x_train[(i + 1) * num_val_samples :]],\n",
        "        axis=0,\n",
        "    )\n",
        "    fold_y_train = np.concatenate(\n",
        "        [y_train[: i * num_val_samples], y_train[(i + 1) * num_val_samples :]],\n",
        "        axis=0,\n",
        "    )\n",
        "    model = get_model()\n",
        "    history = model.fit(\n",
        "        fold_x_train,\n",
        "        fold_y_train,\n",
        "        validation_data=(fold_x_val, fold_y_val),\n",
        "        epochs=num_epochs,\n",
        "        batch_size=16,\n",
        "        verbose=0,\n",
        "    )\n",
        "    mae_history = history.history[\"val_mean_absolute_error\"]\n",
        "    all_mae_histories.append(mae_history)"
      ]
    },
    {
      "cell_type": "code",
      "execution_count": null,
      "metadata": {
        "id": "rlezD8g6mw8F"
      },
      "outputs": [],
      "source": [
        "average_mae_history = [\n",
        "    np.mean([x[i] for x in all_mae_histories]) for i in range(num_epochs)\n",
        "]"
      ]
    },
    {
      "cell_type": "code",
      "execution_count": null,
      "metadata": {
        "id": "LeLdkklYmw8F",
        "outputId": "38b1d7e3-92d2-46ec-9267-9f3c4f2efa4c",
        "colab": {
          "base_uri": "https://localhost:8080/",
          "height": 449
        }
      },
      "outputs": [
        {
          "output_type": "display_data",
          "data": {
            "text/plain": [
              "<Figure size 640x480 with 1 Axes>"
            ],
            "image/png": "[encoded data removed]"
          },
          "metadata": {}
        }
      ],
      "source": [
        "epochs = range(1, len(average_mae_history) + 1)\n",
        "plt.plot(epochs, average_mae_history)\n",
        "plt.xlabel(\"Epochs\")\n",
        "plt.ylabel(\"Validation MAE\")\n",
        "plt.show()"
      ]
    },
    {
      "cell_type": "code",
      "execution_count": null,
      "metadata": {
        "id": "vS4yAn16mw8F",
        "outputId": "01826c42-306f-4fad-d673-f071d5b2a935",
        "colab": {
          "base_uri": "https://localhost:8080/",
          "height": 449
        }
      },
      "outputs": [
        {
          "output_type": "display_data",
          "data": {
            "text/plain": [
              "<Figure size 640x480 with 1 Axes>"
            ],
            "image/png": "[encoded data removed]"
          },
          "metadata": {}
        }
      ],
      "source": [
        "truncated_mae_history = average_mae_history[10:]\n",
        "epochs = range(10, len(truncated_mae_history) + 10)\n",
        "plt.plot(epochs, truncated_mae_history)\n",
        "plt.xlabel(\"Epochs\")\n",
        "plt.ylabel(\"Validation MAE\")\n",
        "plt.show()"
      ]
    },
    {
      "cell_type": "code",
      "execution_count": null,
      "metadata": {
        "id": "m5PuFCtCmw8F",
        "outputId": "c304dcf8-0b64-4a2b-8328-0100167d40e7",
        "colab": {
          "base_uri": "https://localhost:8080/"
        }
      },
      "outputs": [
        {
          "output_type": "stream",
          "name": "stdout",
          "text": [
            "\u001b[1m4/4\u001b[0m \u001b[32m━━━━━━━━━━━━━━━━━━━━\u001b[0m\u001b[37m\u001b[0m \u001b[1m1s\u001b[0m 180ms/step - loss: 0.2901 - mean_absolute_error: 0.3208\n"
          ]
        }
      ],
      "source": [
        "model = get_model()\n",
        "model.fit(x_train, y_train, epochs=130, batch_size=16, verbose=0)\n",
        "test_mean_squared_error, test_mean_absolute_error = model.evaluate(\n",
        "    x_test, y_test\n",
        ")"
      ]
    },
    {
      "cell_type": "code",
      "execution_count": null,
      "metadata": {
        "id": "9BcVwneJmw8F",
        "outputId": "0a5c215a-e612-4499-e168-aca79ca04a2e",
        "colab": {
          "base_uri": "https://localhost:8080/"
        }
      },
      "outputs": [
        {
          "output_type": "execute_result",
          "data": {
            "text/plain": [
              "0.312"
            ]
          },
          "metadata": {},
          "execution_count": 64
        }
      ],
      "source": [
        "round(test_mean_absolute_error, 3)"
      ]
    },
    {
      "cell_type": "markdown",
      "metadata": {
        "id": "EdlTCIPZmw8F"
      },
      "source": [
        "#### Generating predictions on new data"
      ]
    },
    {
      "cell_type": "code",
      "execution_count": null,
      "metadata": {
        "id": "4HOKkclrmw8F",
        "outputId": "b9eae2b7-eeaa-45ae-f34f-fd817a58c82e",
        "colab": {
          "base_uri": "https://localhost:8080/"
        }
      },
      "outputs": [
        {
          "output_type": "stream",
          "name": "stdout",
          "text": [
            "\u001b[1m4/4\u001b[0m \u001b[32m━━━━━━━━━━━━━━━━━━━━\u001b[0m\u001b[37m\u001b[0m \u001b[1m0s\u001b[0m 74ms/step\n"
          ]
        },
        {
          "output_type": "execute_result",
          "data": {
            "text/plain": [
              "array([2.7554684], dtype=float32)"
            ]
          },
          "metadata": {},
          "execution_count": 65
        }
      ],
      "source": [
        "predictions = model.predict(x_test)\n",
        "predictions[0]"
      ]
    },
    {
      "cell_type": "markdown",
      "metadata": {
        "id": "2WgqpWZemw8F"
      },
      "source": [
        "#### Wrapping up"
      ]
    }
  ],
  "metadata": {
    "accelerator": "GPU",
    "colab": {
      "provenance": [],
      "toc_visible": true,
      "include_colab_link": true
    },
    "kernelspec": {
      "display_name": "Python 3",
      "name": "python3"
    },
    "language_info": {
      "codemirror_mode": {
        "name": "ipython",
        "version": 3
      },
      "file_extension": ".py",
      "mimetype": "text/x-python",
      "name": "python",
      "nbconvert_exporter": "python",
      "pygments_lexer": "ipython3",
      "version": "3.10.0"
    }
  },
  "nbformat": 4,
  "nbformat_minor": 0
}
